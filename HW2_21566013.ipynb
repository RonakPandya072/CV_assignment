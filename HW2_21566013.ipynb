{
  "nbformat": 4,
  "nbformat_minor": 0,
  "metadata": {
    "colab": {
      "name": "AID 565 Assignment-2.ipynb",
      "provenance": [],
      "collapsed_sections": []
    },
    "kernelspec": {
      "name": "python3",
      "display_name": "Python 3"
    },
    "language_info": {
      "name": "python"
    },
    "widgets": {
      "application/vnd.jupyter.widget-state+json": {
        "1ad8bb12787c445fa545fb14b6b3cc6d": {
          "model_module": "@jupyter-widgets/controls",
          "model_name": "HBoxModel",
          "model_module_version": "1.5.0",
          "state": {
            "_view_name": "HBoxView",
            "_dom_classes": [],
            "_model_name": "HBoxModel",
            "_view_module": "@jupyter-widgets/controls",
            "_model_module_version": "1.5.0",
            "_view_count": null,
            "_view_module_version": "1.5.0",
            "box_style": "",
            "layout": "IPY_MODEL_598012cf58924bfd8a0596ac66c677e2",
            "_model_module": "@jupyter-widgets/controls",
            "children": [
              "IPY_MODEL_d67509f3cccc43368658f403157c3e6c",
              "IPY_MODEL_7f26ee406c9a4bbbbbf9d148a365e259",
              "IPY_MODEL_beee7dd94741485284455517be61d3c4"
            ]
          }
        },
        "598012cf58924bfd8a0596ac66c677e2": {
          "model_module": "@jupyter-widgets/base",
          "model_name": "LayoutModel",
          "model_module_version": "1.2.0",
          "state": {
            "_view_name": "LayoutView",
            "grid_template_rows": null,
            "right": null,
            "justify_content": null,
            "_view_module": "@jupyter-widgets/base",
            "overflow": null,
            "_model_module_version": "1.2.0",
            "_view_count": null,
            "flex_flow": null,
            "width": null,
            "min_width": null,
            "border": null,
            "align_items": null,
            "bottom": null,
            "_model_module": "@jupyter-widgets/base",
            "top": null,
            "grid_column": null,
            "overflow_y": null,
            "overflow_x": null,
            "grid_auto_flow": null,
            "grid_area": null,
            "grid_template_columns": null,
            "flex": null,
            "_model_name": "LayoutModel",
            "justify_items": null,
            "grid_row": null,
            "max_height": null,
            "align_content": null,
            "visibility": null,
            "align_self": null,
            "height": null,
            "min_height": null,
            "padding": null,
            "grid_auto_rows": null,
            "grid_gap": null,
            "max_width": null,
            "order": null,
            "_view_module_version": "1.2.0",
            "grid_template_areas": null,
            "object_position": null,
            "object_fit": null,
            "grid_auto_columns": null,
            "margin": null,
            "display": null,
            "left": null
          }
        },
        "d67509f3cccc43368658f403157c3e6c": {
          "model_module": "@jupyter-widgets/controls",
          "model_name": "HTMLModel",
          "model_module_version": "1.5.0",
          "state": {
            "_view_name": "HTMLView",
            "style": "IPY_MODEL_dee03ff126054945a7fe7d2414ba776c",
            "_dom_classes": [],
            "description": "",
            "_model_name": "HTMLModel",
            "placeholder": "​",
            "_view_module": "@jupyter-widgets/controls",
            "_model_module_version": "1.5.0",
            "value": "100%",
            "_view_count": null,
            "_view_module_version": "1.5.0",
            "description_tooltip": null,
            "_model_module": "@jupyter-widgets/controls",
            "layout": "IPY_MODEL_256289c613934b8d97f6661095eae64f"
          }
        },
        "7f26ee406c9a4bbbbbf9d148a365e259": {
          "model_module": "@jupyter-widgets/controls",
          "model_name": "FloatProgressModel",
          "model_module_version": "1.5.0",
          "state": {
            "_view_name": "ProgressView",
            "style": "IPY_MODEL_c82ef77b2aed4f6eb73ff230846d6264",
            "_dom_classes": [],
            "description": "",
            "_model_name": "FloatProgressModel",
            "bar_style": "success",
            "max": 553433881,
            "_view_module": "@jupyter-widgets/controls",
            "_model_module_version": "1.5.0",
            "value": 553433881,
            "_view_count": null,
            "_view_module_version": "1.5.0",
            "orientation": "horizontal",
            "min": 0,
            "description_tooltip": null,
            "_model_module": "@jupyter-widgets/controls",
            "layout": "IPY_MODEL_19cc63acc9664d709ce50da9e72d5de5"
          }
        },
        "beee7dd94741485284455517be61d3c4": {
          "model_module": "@jupyter-widgets/controls",
          "model_name": "HTMLModel",
          "model_module_version": "1.5.0",
          "state": {
            "_view_name": "HTMLView",
            "style": "IPY_MODEL_d3b86fb71b0e447dbfe9812f6f3b4e95",
            "_dom_classes": [],
            "description": "",
            "_model_name": "HTMLModel",
            "placeholder": "​",
            "_view_module": "@jupyter-widgets/controls",
            "_model_module_version": "1.5.0",
            "value": " 528M/528M [00:04&lt;00:00, 141MB/s]",
            "_view_count": null,
            "_view_module_version": "1.5.0",
            "description_tooltip": null,
            "_model_module": "@jupyter-widgets/controls",
            "layout": "IPY_MODEL_8570b0a25b5e4b3db98b33e95c5eaeca"
          }
        },
        "dee03ff126054945a7fe7d2414ba776c": {
          "model_module": "@jupyter-widgets/controls",
          "model_name": "DescriptionStyleModel",
          "model_module_version": "1.5.0",
          "state": {
            "_view_name": "StyleView",
            "_model_name": "DescriptionStyleModel",
            "description_width": "",
            "_view_module": "@jupyter-widgets/base",
            "_model_module_version": "1.5.0",
            "_view_count": null,
            "_view_module_version": "1.2.0",
            "_model_module": "@jupyter-widgets/controls"
          }
        },
        "256289c613934b8d97f6661095eae64f": {
          "model_module": "@jupyter-widgets/base",
          "model_name": "LayoutModel",
          "model_module_version": "1.2.0",
          "state": {
            "_view_name": "LayoutView",
            "grid_template_rows": null,
            "right": null,
            "justify_content": null,
            "_view_module": "@jupyter-widgets/base",
            "overflow": null,
            "_model_module_version": "1.2.0",
            "_view_count": null,
            "flex_flow": null,
            "width": null,
            "min_width": null,
            "border": null,
            "align_items": null,
            "bottom": null,
            "_model_module": "@jupyter-widgets/base",
            "top": null,
            "grid_column": null,
            "overflow_y": null,
            "overflow_x": null,
            "grid_auto_flow": null,
            "grid_area": null,
            "grid_template_columns": null,
            "flex": null,
            "_model_name": "LayoutModel",
            "justify_items": null,
            "grid_row": null,
            "max_height": null,
            "align_content": null,
            "visibility": null,
            "align_self": null,
            "height": null,
            "min_height": null,
            "padding": null,
            "grid_auto_rows": null,
            "grid_gap": null,
            "max_width": null,
            "order": null,
            "_view_module_version": "1.2.0",
            "grid_template_areas": null,
            "object_position": null,
            "object_fit": null,
            "grid_auto_columns": null,
            "margin": null,
            "display": null,
            "left": null
          }
        },
        "c82ef77b2aed4f6eb73ff230846d6264": {
          "model_module": "@jupyter-widgets/controls",
          "model_name": "ProgressStyleModel",
          "model_module_version": "1.5.0",
          "state": {
            "_view_name": "StyleView",
            "_model_name": "ProgressStyleModel",
            "description_width": "",
            "_view_module": "@jupyter-widgets/base",
            "_model_module_version": "1.5.0",
            "_view_count": null,
            "_view_module_version": "1.2.0",
            "bar_color": null,
            "_model_module": "@jupyter-widgets/controls"
          }
        },
        "19cc63acc9664d709ce50da9e72d5de5": {
          "model_module": "@jupyter-widgets/base",
          "model_name": "LayoutModel",
          "model_module_version": "1.2.0",
          "state": {
            "_view_name": "LayoutView",
            "grid_template_rows": null,
            "right": null,
            "justify_content": null,
            "_view_module": "@jupyter-widgets/base",
            "overflow": null,
            "_model_module_version": "1.2.0",
            "_view_count": null,
            "flex_flow": null,
            "width": null,
            "min_width": null,
            "border": null,
            "align_items": null,
            "bottom": null,
            "_model_module": "@jupyter-widgets/base",
            "top": null,
            "grid_column": null,
            "overflow_y": null,
            "overflow_x": null,
            "grid_auto_flow": null,
            "grid_area": null,
            "grid_template_columns": null,
            "flex": null,
            "_model_name": "LayoutModel",
            "justify_items": null,
            "grid_row": null,
            "max_height": null,
            "align_content": null,
            "visibility": null,
            "align_self": null,
            "height": null,
            "min_height": null,
            "padding": null,
            "grid_auto_rows": null,
            "grid_gap": null,
            "max_width": null,
            "order": null,
            "_view_module_version": "1.2.0",
            "grid_template_areas": null,
            "object_position": null,
            "object_fit": null,
            "grid_auto_columns": null,
            "margin": null,
            "display": null,
            "left": null
          }
        },
        "d3b86fb71b0e447dbfe9812f6f3b4e95": {
          "model_module": "@jupyter-widgets/controls",
          "model_name": "DescriptionStyleModel",
          "model_module_version": "1.5.0",
          "state": {
            "_view_name": "StyleView",
            "_model_name": "DescriptionStyleModel",
            "description_width": "",
            "_view_module": "@jupyter-widgets/base",
            "_model_module_version": "1.5.0",
            "_view_count": null,
            "_view_module_version": "1.2.0",
            "_model_module": "@jupyter-widgets/controls"
          }
        },
        "8570b0a25b5e4b3db98b33e95c5eaeca": {
          "model_module": "@jupyter-widgets/base",
          "model_name": "LayoutModel",
          "model_module_version": "1.2.0",
          "state": {
            "_view_name": "LayoutView",
            "grid_template_rows": null,
            "right": null,
            "justify_content": null,
            "_view_module": "@jupyter-widgets/base",
            "overflow": null,
            "_model_module_version": "1.2.0",
            "_view_count": null,
            "flex_flow": null,
            "width": null,
            "min_width": null,
            "border": null,
            "align_items": null,
            "bottom": null,
            "_model_module": "@jupyter-widgets/base",
            "top": null,
            "grid_column": null,
            "overflow_y": null,
            "overflow_x": null,
            "grid_auto_flow": null,
            "grid_area": null,
            "grid_template_columns": null,
            "flex": null,
            "_model_name": "LayoutModel",
            "justify_items": null,
            "grid_row": null,
            "max_height": null,
            "align_content": null,
            "visibility": null,
            "align_self": null,
            "height": null,
            "min_height": null,
            "padding": null,
            "grid_auto_rows": null,
            "grid_gap": null,
            "max_width": null,
            "order": null,
            "_view_module_version": "1.2.0",
            "grid_template_areas": null,
            "object_position": null,
            "object_fit": null,
            "grid_auto_columns": null,
            "margin": null,
            "display": null,
            "left": null
          }
        },
        "bb16cf9ef604417184733943514438e6": {
          "model_module": "@jupyter-widgets/controls",
          "model_name": "HBoxModel",
          "model_module_version": "1.5.0",
          "state": {
            "_view_name": "HBoxView",
            "_dom_classes": [],
            "_model_name": "HBoxModel",
            "_view_module": "@jupyter-widgets/controls",
            "_model_module_version": "1.5.0",
            "_view_count": null,
            "_view_module_version": "1.5.0",
            "box_style": "",
            "layout": "IPY_MODEL_18d1b0cd95784e91968b031e84e4644e",
            "_model_module": "@jupyter-widgets/controls",
            "children": [
              "IPY_MODEL_125f127dae89451ea13a7d80ad68d672",
              "IPY_MODEL_4b919aa05c5f434c9bafd37adee4a5f9",
              "IPY_MODEL_4f54d1ae20084f189453bbaacc156e23"
            ]
          }
        },
        "18d1b0cd95784e91968b031e84e4644e": {
          "model_module": "@jupyter-widgets/base",
          "model_name": "LayoutModel",
          "model_module_version": "1.2.0",
          "state": {
            "_view_name": "LayoutView",
            "grid_template_rows": null,
            "right": null,
            "justify_content": null,
            "_view_module": "@jupyter-widgets/base",
            "overflow": null,
            "_model_module_version": "1.2.0",
            "_view_count": null,
            "flex_flow": null,
            "width": null,
            "min_width": null,
            "border": null,
            "align_items": null,
            "bottom": null,
            "_model_module": "@jupyter-widgets/base",
            "top": null,
            "grid_column": null,
            "overflow_y": null,
            "overflow_x": null,
            "grid_auto_flow": null,
            "grid_area": null,
            "grid_template_columns": null,
            "flex": null,
            "_model_name": "LayoutModel",
            "justify_items": null,
            "grid_row": null,
            "max_height": null,
            "align_content": null,
            "visibility": null,
            "align_self": null,
            "height": null,
            "min_height": null,
            "padding": null,
            "grid_auto_rows": null,
            "grid_gap": null,
            "max_width": null,
            "order": null,
            "_view_module_version": "1.2.0",
            "grid_template_areas": null,
            "object_position": null,
            "object_fit": null,
            "grid_auto_columns": null,
            "margin": null,
            "display": null,
            "left": null
          }
        },
        "125f127dae89451ea13a7d80ad68d672": {
          "model_module": "@jupyter-widgets/controls",
          "model_name": "HTMLModel",
          "model_module_version": "1.5.0",
          "state": {
            "_view_name": "HTMLView",
            "style": "IPY_MODEL_5dd05ac56c02413e8d22d1b5599e4b2e",
            "_dom_classes": [],
            "description": "",
            "_model_name": "HTMLModel",
            "placeholder": "​",
            "_view_module": "@jupyter-widgets/controls",
            "_model_module_version": "1.5.0",
            "value": "100%",
            "_view_count": null,
            "_view_module_version": "1.5.0",
            "description_tooltip": null,
            "_model_module": "@jupyter-widgets/controls",
            "layout": "IPY_MODEL_a0023c0add4443cfb102c9bd2f047b51"
          }
        },
        "4b919aa05c5f434c9bafd37adee4a5f9": {
          "model_module": "@jupyter-widgets/controls",
          "model_name": "FloatProgressModel",
          "model_module_version": "1.5.0",
          "state": {
            "_view_name": "ProgressView",
            "style": "IPY_MODEL_3c999a5803f1419c972a1774f301a78d",
            "_dom_classes": [],
            "description": "",
            "_model_name": "FloatProgressModel",
            "bar_style": "success",
            "max": 46830571,
            "_view_module": "@jupyter-widgets/controls",
            "_model_module_version": "1.5.0",
            "value": 46830571,
            "_view_count": null,
            "_view_module_version": "1.5.0",
            "orientation": "horizontal",
            "min": 0,
            "description_tooltip": null,
            "_model_module": "@jupyter-widgets/controls",
            "layout": "IPY_MODEL_b40220e2b7aa44cfabeb4e0dd25be629"
          }
        },
        "4f54d1ae20084f189453bbaacc156e23": {
          "model_module": "@jupyter-widgets/controls",
          "model_name": "HTMLModel",
          "model_module_version": "1.5.0",
          "state": {
            "_view_name": "HTMLView",
            "style": "IPY_MODEL_d4ed74fcbb1740d5ab31c4fb6fc2e6e6",
            "_dom_classes": [],
            "description": "",
            "_model_name": "HTMLModel",
            "placeholder": "​",
            "_view_module": "@jupyter-widgets/controls",
            "_model_module_version": "1.5.0",
            "value": " 44.7M/44.7M [00:00&lt;00:00, 68.5MB/s]",
            "_view_count": null,
            "_view_module_version": "1.5.0",
            "description_tooltip": null,
            "_model_module": "@jupyter-widgets/controls",
            "layout": "IPY_MODEL_0432f350574540fab4f5be9c8ecb7f64"
          }
        },
        "5dd05ac56c02413e8d22d1b5599e4b2e": {
          "model_module": "@jupyter-widgets/controls",
          "model_name": "DescriptionStyleModel",
          "model_module_version": "1.5.0",
          "state": {
            "_view_name": "StyleView",
            "_model_name": "DescriptionStyleModel",
            "description_width": "",
            "_view_module": "@jupyter-widgets/base",
            "_model_module_version": "1.5.0",
            "_view_count": null,
            "_view_module_version": "1.2.0",
            "_model_module": "@jupyter-widgets/controls"
          }
        },
        "a0023c0add4443cfb102c9bd2f047b51": {
          "model_module": "@jupyter-widgets/base",
          "model_name": "LayoutModel",
          "model_module_version": "1.2.0",
          "state": {
            "_view_name": "LayoutView",
            "grid_template_rows": null,
            "right": null,
            "justify_content": null,
            "_view_module": "@jupyter-widgets/base",
            "overflow": null,
            "_model_module_version": "1.2.0",
            "_view_count": null,
            "flex_flow": null,
            "width": null,
            "min_width": null,
            "border": null,
            "align_items": null,
            "bottom": null,
            "_model_module": "@jupyter-widgets/base",
            "top": null,
            "grid_column": null,
            "overflow_y": null,
            "overflow_x": null,
            "grid_auto_flow": null,
            "grid_area": null,
            "grid_template_columns": null,
            "flex": null,
            "_model_name": "LayoutModel",
            "justify_items": null,
            "grid_row": null,
            "max_height": null,
            "align_content": null,
            "visibility": null,
            "align_self": null,
            "height": null,
            "min_height": null,
            "padding": null,
            "grid_auto_rows": null,
            "grid_gap": null,
            "max_width": null,
            "order": null,
            "_view_module_version": "1.2.0",
            "grid_template_areas": null,
            "object_position": null,
            "object_fit": null,
            "grid_auto_columns": null,
            "margin": null,
            "display": null,
            "left": null
          }
        },
        "3c999a5803f1419c972a1774f301a78d": {
          "model_module": "@jupyter-widgets/controls",
          "model_name": "ProgressStyleModel",
          "model_module_version": "1.5.0",
          "state": {
            "_view_name": "StyleView",
            "_model_name": "ProgressStyleModel",
            "description_width": "",
            "_view_module": "@jupyter-widgets/base",
            "_model_module_version": "1.5.0",
            "_view_count": null,
            "_view_module_version": "1.2.0",
            "bar_color": null,
            "_model_module": "@jupyter-widgets/controls"
          }
        },
        "b40220e2b7aa44cfabeb4e0dd25be629": {
          "model_module": "@jupyter-widgets/base",
          "model_name": "LayoutModel",
          "model_module_version": "1.2.0",
          "state": {
            "_view_name": "LayoutView",
            "grid_template_rows": null,
            "right": null,
            "justify_content": null,
            "_view_module": "@jupyter-widgets/base",
            "overflow": null,
            "_model_module_version": "1.2.0",
            "_view_count": null,
            "flex_flow": null,
            "width": null,
            "min_width": null,
            "border": null,
            "align_items": null,
            "bottom": null,
            "_model_module": "@jupyter-widgets/base",
            "top": null,
            "grid_column": null,
            "overflow_y": null,
            "overflow_x": null,
            "grid_auto_flow": null,
            "grid_area": null,
            "grid_template_columns": null,
            "flex": null,
            "_model_name": "LayoutModel",
            "justify_items": null,
            "grid_row": null,
            "max_height": null,
            "align_content": null,
            "visibility": null,
            "align_self": null,
            "height": null,
            "min_height": null,
            "padding": null,
            "grid_auto_rows": null,
            "grid_gap": null,
            "max_width": null,
            "order": null,
            "_view_module_version": "1.2.0",
            "grid_template_areas": null,
            "object_position": null,
            "object_fit": null,
            "grid_auto_columns": null,
            "margin": null,
            "display": null,
            "left": null
          }
        },
        "d4ed74fcbb1740d5ab31c4fb6fc2e6e6": {
          "model_module": "@jupyter-widgets/controls",
          "model_name": "DescriptionStyleModel",
          "model_module_version": "1.5.0",
          "state": {
            "_view_name": "StyleView",
            "_model_name": "DescriptionStyleModel",
            "description_width": "",
            "_view_module": "@jupyter-widgets/base",
            "_model_module_version": "1.5.0",
            "_view_count": null,
            "_view_module_version": "1.2.0",
            "_model_module": "@jupyter-widgets/controls"
          }
        },
        "0432f350574540fab4f5be9c8ecb7f64": {
          "model_module": "@jupyter-widgets/base",
          "model_name": "LayoutModel",
          "model_module_version": "1.2.0",
          "state": {
            "_view_name": "LayoutView",
            "grid_template_rows": null,
            "right": null,
            "justify_content": null,
            "_view_module": "@jupyter-widgets/base",
            "overflow": null,
            "_model_module_version": "1.2.0",
            "_view_count": null,
            "flex_flow": null,
            "width": null,
            "min_width": null,
            "border": null,
            "align_items": null,
            "bottom": null,
            "_model_module": "@jupyter-widgets/base",
            "top": null,
            "grid_column": null,
            "overflow_y": null,
            "overflow_x": null,
            "grid_auto_flow": null,
            "grid_area": null,
            "grid_template_columns": null,
            "flex": null,
            "_model_name": "LayoutModel",
            "justify_items": null,
            "grid_row": null,
            "max_height": null,
            "align_content": null,
            "visibility": null,
            "align_self": null,
            "height": null,
            "min_height": null,
            "padding": null,
            "grid_auto_rows": null,
            "grid_gap": null,
            "max_width": null,
            "order": null,
            "_view_module_version": "1.2.0",
            "grid_template_areas": null,
            "object_position": null,
            "object_fit": null,
            "grid_auto_columns": null,
            "margin": null,
            "display": null,
            "left": null
          }
        },
        "e25fd56b2403456797b4f2bcd8a8fa39": {
          "model_module": "@jupyter-widgets/controls",
          "model_name": "HBoxModel",
          "model_module_version": "1.5.0",
          "state": {
            "_view_name": "HBoxView",
            "_dom_classes": [],
            "_model_name": "HBoxModel",
            "_view_module": "@jupyter-widgets/controls",
            "_model_module_version": "1.5.0",
            "_view_count": null,
            "_view_module_version": "1.5.0",
            "box_style": "",
            "layout": "IPY_MODEL_4b83b8e9ed7044b4818ed026688d71ad",
            "_model_module": "@jupyter-widgets/controls",
            "children": [
              "IPY_MODEL_1b5b440e823e4fa98461ce1e65da4ecb",
              "IPY_MODEL_cba055d857be48199fb88b3a7df7d127",
              "IPY_MODEL_5ba671539d7046dab5ac3f3c9de66340"
            ]
          }
        },
        "4b83b8e9ed7044b4818ed026688d71ad": {
          "model_module": "@jupyter-widgets/base",
          "model_name": "LayoutModel",
          "model_module_version": "1.2.0",
          "state": {
            "_view_name": "LayoutView",
            "grid_template_rows": null,
            "right": null,
            "justify_content": null,
            "_view_module": "@jupyter-widgets/base",
            "overflow": null,
            "_model_module_version": "1.2.0",
            "_view_count": null,
            "flex_flow": null,
            "width": null,
            "min_width": null,
            "border": null,
            "align_items": null,
            "bottom": null,
            "_model_module": "@jupyter-widgets/base",
            "top": null,
            "grid_column": null,
            "overflow_y": null,
            "overflow_x": null,
            "grid_auto_flow": null,
            "grid_area": null,
            "grid_template_columns": null,
            "flex": null,
            "_model_name": "LayoutModel",
            "justify_items": null,
            "grid_row": null,
            "max_height": null,
            "align_content": null,
            "visibility": null,
            "align_self": null,
            "height": null,
            "min_height": null,
            "padding": null,
            "grid_auto_rows": null,
            "grid_gap": null,
            "max_width": null,
            "order": null,
            "_view_module_version": "1.2.0",
            "grid_template_areas": null,
            "object_position": null,
            "object_fit": null,
            "grid_auto_columns": null,
            "margin": null,
            "display": null,
            "left": null
          }
        },
        "1b5b440e823e4fa98461ce1e65da4ecb": {
          "model_module": "@jupyter-widgets/controls",
          "model_name": "HTMLModel",
          "model_module_version": "1.5.0",
          "state": {
            "_view_name": "HTMLView",
            "style": "IPY_MODEL_9b869aa1394d441c9e03b4858e5e12d0",
            "_dom_classes": [],
            "description": "",
            "_model_name": "HTMLModel",
            "placeholder": "​",
            "_view_module": "@jupyter-widgets/controls",
            "_model_module_version": "1.5.0",
            "value": "100%",
            "_view_count": null,
            "_view_module_version": "1.5.0",
            "description_tooltip": null,
            "_model_module": "@jupyter-widgets/controls",
            "layout": "IPY_MODEL_6d2ab891138c48a1bdbfc5609092d73b"
          }
        },
        "cba055d857be48199fb88b3a7df7d127": {
          "model_module": "@jupyter-widgets/controls",
          "model_name": "FloatProgressModel",
          "model_module_version": "1.5.0",
          "state": {
            "_view_name": "ProgressView",
            "style": "IPY_MODEL_4156b858cac04601a6eb82415db58aa9",
            "_dom_classes": [],
            "description": "",
            "_model_name": "FloatProgressModel",
            "bar_style": "success",
            "max": 574673361,
            "_view_module": "@jupyter-widgets/controls",
            "_model_module_version": "1.5.0",
            "value": 574673361,
            "_view_count": null,
            "_view_module_version": "1.5.0",
            "orientation": "horizontal",
            "min": 0,
            "description_tooltip": null,
            "_model_module": "@jupyter-widgets/controls",
            "layout": "IPY_MODEL_8c81d5eb1d584f8fb596275cbaabb6f2"
          }
        },
        "5ba671539d7046dab5ac3f3c9de66340": {
          "model_module": "@jupyter-widgets/controls",
          "model_name": "HTMLModel",
          "model_module_version": "1.5.0",
          "state": {
            "_view_name": "HTMLView",
            "style": "IPY_MODEL_35c4be38eff947acb3dd3dc78ea85668",
            "_dom_classes": [],
            "description": "",
            "_model_name": "HTMLModel",
            "placeholder": "​",
            "_view_module": "@jupyter-widgets/controls",
            "_model_module_version": "1.5.0",
            "value": " 548M/548M [00:07&lt;00:00, 98.7MB/s]",
            "_view_count": null,
            "_view_module_version": "1.5.0",
            "description_tooltip": null,
            "_model_module": "@jupyter-widgets/controls",
            "layout": "IPY_MODEL_37b9466038d1430b97aac2ca605af8a0"
          }
        },
        "9b869aa1394d441c9e03b4858e5e12d0": {
          "model_module": "@jupyter-widgets/controls",
          "model_name": "DescriptionStyleModel",
          "model_module_version": "1.5.0",
          "state": {
            "_view_name": "StyleView",
            "_model_name": "DescriptionStyleModel",
            "description_width": "",
            "_view_module": "@jupyter-widgets/base",
            "_model_module_version": "1.5.0",
            "_view_count": null,
            "_view_module_version": "1.2.0",
            "_model_module": "@jupyter-widgets/controls"
          }
        },
        "6d2ab891138c48a1bdbfc5609092d73b": {
          "model_module": "@jupyter-widgets/base",
          "model_name": "LayoutModel",
          "model_module_version": "1.2.0",
          "state": {
            "_view_name": "LayoutView",
            "grid_template_rows": null,
            "right": null,
            "justify_content": null,
            "_view_module": "@jupyter-widgets/base",
            "overflow": null,
            "_model_module_version": "1.2.0",
            "_view_count": null,
            "flex_flow": null,
            "width": null,
            "min_width": null,
            "border": null,
            "align_items": null,
            "bottom": null,
            "_model_module": "@jupyter-widgets/base",
            "top": null,
            "grid_column": null,
            "overflow_y": null,
            "overflow_x": null,
            "grid_auto_flow": null,
            "grid_area": null,
            "grid_template_columns": null,
            "flex": null,
            "_model_name": "LayoutModel",
            "justify_items": null,
            "grid_row": null,
            "max_height": null,
            "align_content": null,
            "visibility": null,
            "align_self": null,
            "height": null,
            "min_height": null,
            "padding": null,
            "grid_auto_rows": null,
            "grid_gap": null,
            "max_width": null,
            "order": null,
            "_view_module_version": "1.2.0",
            "grid_template_areas": null,
            "object_position": null,
            "object_fit": null,
            "grid_auto_columns": null,
            "margin": null,
            "display": null,
            "left": null
          }
        },
        "4156b858cac04601a6eb82415db58aa9": {
          "model_module": "@jupyter-widgets/controls",
          "model_name": "ProgressStyleModel",
          "model_module_version": "1.5.0",
          "state": {
            "_view_name": "StyleView",
            "_model_name": "ProgressStyleModel",
            "description_width": "",
            "_view_module": "@jupyter-widgets/base",
            "_model_module_version": "1.5.0",
            "_view_count": null,
            "_view_module_version": "1.2.0",
            "bar_color": null,
            "_model_module": "@jupyter-widgets/controls"
          }
        },
        "8c81d5eb1d584f8fb596275cbaabb6f2": {
          "model_module": "@jupyter-widgets/base",
          "model_name": "LayoutModel",
          "model_module_version": "1.2.0",
          "state": {
            "_view_name": "LayoutView",
            "grid_template_rows": null,
            "right": null,
            "justify_content": null,
            "_view_module": "@jupyter-widgets/base",
            "overflow": null,
            "_model_module_version": "1.2.0",
            "_view_count": null,
            "flex_flow": null,
            "width": null,
            "min_width": null,
            "border": null,
            "align_items": null,
            "bottom": null,
            "_model_module": "@jupyter-widgets/base",
            "top": null,
            "grid_column": null,
            "overflow_y": null,
            "overflow_x": null,
            "grid_auto_flow": null,
            "grid_area": null,
            "grid_template_columns": null,
            "flex": null,
            "_model_name": "LayoutModel",
            "justify_items": null,
            "grid_row": null,
            "max_height": null,
            "align_content": null,
            "visibility": null,
            "align_self": null,
            "height": null,
            "min_height": null,
            "padding": null,
            "grid_auto_rows": null,
            "grid_gap": null,
            "max_width": null,
            "order": null,
            "_view_module_version": "1.2.0",
            "grid_template_areas": null,
            "object_position": null,
            "object_fit": null,
            "grid_auto_columns": null,
            "margin": null,
            "display": null,
            "left": null
          }
        },
        "35c4be38eff947acb3dd3dc78ea85668": {
          "model_module": "@jupyter-widgets/controls",
          "model_name": "DescriptionStyleModel",
          "model_module_version": "1.5.0",
          "state": {
            "_view_name": "StyleView",
            "_model_name": "DescriptionStyleModel",
            "description_width": "",
            "_view_module": "@jupyter-widgets/base",
            "_model_module_version": "1.5.0",
            "_view_count": null,
            "_view_module_version": "1.2.0",
            "_model_module": "@jupyter-widgets/controls"
          }
        },
        "37b9466038d1430b97aac2ca605af8a0": {
          "model_module": "@jupyter-widgets/base",
          "model_name": "LayoutModel",
          "model_module_version": "1.2.0",
          "state": {
            "_view_name": "LayoutView",
            "grid_template_rows": null,
            "right": null,
            "justify_content": null,
            "_view_module": "@jupyter-widgets/base",
            "overflow": null,
            "_model_module_version": "1.2.0",
            "_view_count": null,
            "flex_flow": null,
            "width": null,
            "min_width": null,
            "border": null,
            "align_items": null,
            "bottom": null,
            "_model_module": "@jupyter-widgets/base",
            "top": null,
            "grid_column": null,
            "overflow_y": null,
            "overflow_x": null,
            "grid_auto_flow": null,
            "grid_area": null,
            "grid_template_columns": null,
            "flex": null,
            "_model_name": "LayoutModel",
            "justify_items": null,
            "grid_row": null,
            "max_height": null,
            "align_content": null,
            "visibility": null,
            "align_self": null,
            "height": null,
            "min_height": null,
            "padding": null,
            "grid_auto_rows": null,
            "grid_gap": null,
            "max_width": null,
            "order": null,
            "_view_module_version": "1.2.0",
            "grid_template_areas": null,
            "object_position": null,
            "object_fit": null,
            "grid_auto_columns": null,
            "margin": null,
            "display": null,
            "left": null
          }
        }
      }
    },
    "accelerator": "GPU"
  },
  "cells": [
    {
      "cell_type": "markdown",
      "source": [
        "#AID 565 Computer Vision Assignment 02"
      ],
      "metadata": {
        "id": "2SkpFFA1AExS"
      }
    },
    {
      "cell_type": "markdown",
      "source": [
        "Name: **Ronak M Pandya**\n",
        "\n",
        "Enrollement : **21566013**\n"
      ],
      "metadata": {
        "id": "ytUK1WweACnU"
      }
    },
    {
      "cell_type": "markdown",
      "source": [
        "Q.1 **Load a pretrained model and print weights of any one layer of the model**"
      ],
      "metadata": {
        "id": "FO_5GNABAVwP"
      }
    },
    {
      "cell_type": "code",
      "source": [
        "import torch"
      ],
      "metadata": {
        "id": "9Ro3QEFYASwu"
      },
      "execution_count": 4,
      "outputs": []
    },
    {
      "cell_type": "code",
      "source": [
        "from torchvision import models"
      ],
      "metadata": {
        "id": "17RjP1MJC5UI"
      },
      "execution_count": 5,
      "outputs": []
    },
    {
      "cell_type": "code",
      "source": [
        "vgg = models.vgg16(pretrained=True)\n",
        "print(vgg)"
      ],
      "metadata": {
        "colab": {
          "base_uri": "https://localhost:8080/",
          "height": 847,
          "referenced_widgets": [
            "1ad8bb12787c445fa545fb14b6b3cc6d",
            "598012cf58924bfd8a0596ac66c677e2",
            "d67509f3cccc43368658f403157c3e6c",
            "7f26ee406c9a4bbbbbf9d148a365e259",
            "beee7dd94741485284455517be61d3c4",
            "dee03ff126054945a7fe7d2414ba776c",
            "256289c613934b8d97f6661095eae64f",
            "c82ef77b2aed4f6eb73ff230846d6264",
            "19cc63acc9664d709ce50da9e72d5de5",
            "d3b86fb71b0e447dbfe9812f6f3b4e95",
            "8570b0a25b5e4b3db98b33e95c5eaeca"
          ]
        },
        "id": "Hkrg9exODOup",
        "outputId": "3b8b9b3b-ad0e-4d1b-ac9e-c4a3b8294857"
      },
      "execution_count": 6,
      "outputs": [
        {
          "output_type": "stream",
          "name": "stderr",
          "text": [
            "Downloading: \"https://download.pytorch.org/models/vgg16-397923af.pth\" to /root/.cache/torch/hub/checkpoints/vgg16-397923af.pth\n"
          ]
        },
        {
          "output_type": "display_data",
          "data": {
            "application/vnd.jupyter.widget-view+json": {
              "model_id": "1ad8bb12787c445fa545fb14b6b3cc6d",
              "version_minor": 0,
              "version_major": 2
            },
            "text/plain": [
              "  0%|          | 0.00/528M [00:00<?, ?B/s]"
            ]
          },
          "metadata": {}
        },
        {
          "output_type": "stream",
          "name": "stdout",
          "text": [
            "VGG(\n",
            "  (features): Sequential(\n",
            "    (0): Conv2d(3, 64, kernel_size=(3, 3), stride=(1, 1), padding=(1, 1))\n",
            "    (1): ReLU(inplace=True)\n",
            "    (2): Conv2d(64, 64, kernel_size=(3, 3), stride=(1, 1), padding=(1, 1))\n",
            "    (3): ReLU(inplace=True)\n",
            "    (4): MaxPool2d(kernel_size=2, stride=2, padding=0, dilation=1, ceil_mode=False)\n",
            "    (5): Conv2d(64, 128, kernel_size=(3, 3), stride=(1, 1), padding=(1, 1))\n",
            "    (6): ReLU(inplace=True)\n",
            "    (7): Conv2d(128, 128, kernel_size=(3, 3), stride=(1, 1), padding=(1, 1))\n",
            "    (8): ReLU(inplace=True)\n",
            "    (9): MaxPool2d(kernel_size=2, stride=2, padding=0, dilation=1, ceil_mode=False)\n",
            "    (10): Conv2d(128, 256, kernel_size=(3, 3), stride=(1, 1), padding=(1, 1))\n",
            "    (11): ReLU(inplace=True)\n",
            "    (12): Conv2d(256, 256, kernel_size=(3, 3), stride=(1, 1), padding=(1, 1))\n",
            "    (13): ReLU(inplace=True)\n",
            "    (14): Conv2d(256, 256, kernel_size=(3, 3), stride=(1, 1), padding=(1, 1))\n",
            "    (15): ReLU(inplace=True)\n",
            "    (16): MaxPool2d(kernel_size=2, stride=2, padding=0, dilation=1, ceil_mode=False)\n",
            "    (17): Conv2d(256, 512, kernel_size=(3, 3), stride=(1, 1), padding=(1, 1))\n",
            "    (18): ReLU(inplace=True)\n",
            "    (19): Conv2d(512, 512, kernel_size=(3, 3), stride=(1, 1), padding=(1, 1))\n",
            "    (20): ReLU(inplace=True)\n",
            "    (21): Conv2d(512, 512, kernel_size=(3, 3), stride=(1, 1), padding=(1, 1))\n",
            "    (22): ReLU(inplace=True)\n",
            "    (23): MaxPool2d(kernel_size=2, stride=2, padding=0, dilation=1, ceil_mode=False)\n",
            "    (24): Conv2d(512, 512, kernel_size=(3, 3), stride=(1, 1), padding=(1, 1))\n",
            "    (25): ReLU(inplace=True)\n",
            "    (26): Conv2d(512, 512, kernel_size=(3, 3), stride=(1, 1), padding=(1, 1))\n",
            "    (27): ReLU(inplace=True)\n",
            "    (28): Conv2d(512, 512, kernel_size=(3, 3), stride=(1, 1), padding=(1, 1))\n",
            "    (29): ReLU(inplace=True)\n",
            "    (30): MaxPool2d(kernel_size=2, stride=2, padding=0, dilation=1, ceil_mode=False)\n",
            "  )\n",
            "  (avgpool): AdaptiveAvgPool2d(output_size=(7, 7))\n",
            "  (classifier): Sequential(\n",
            "    (0): Linear(in_features=25088, out_features=4096, bias=True)\n",
            "    (1): ReLU(inplace=True)\n",
            "    (2): Dropout(p=0.5, inplace=False)\n",
            "    (3): Linear(in_features=4096, out_features=4096, bias=True)\n",
            "    (4): ReLU(inplace=True)\n",
            "    (5): Dropout(p=0.5, inplace=False)\n",
            "    (6): Linear(in_features=4096, out_features=1000, bias=True)\n",
            "  )\n",
            ")\n"
          ]
        }
      ]
    },
    {
      "cell_type": "code",
      "source": [
        "#printing weight of layer 2\n",
        "print(vgg.features[2].weight)"
      ],
      "metadata": {
        "colab": {
          "base_uri": "https://localhost:8080/"
        },
        "id": "oM46ryKQJSER",
        "outputId": "2af52d85-d143-47a3-e4d1-ed9d3b48417b"
      },
      "execution_count": 7,
      "outputs": [
        {
          "output_type": "stream",
          "name": "stdout",
          "text": [
            "Parameter containing:\n",
            "tensor([[[[-3.0606e-02, -9.8520e-02, -1.3260e-01],\n",
            "          [ 6.8208e-03, -8.3483e-02, -1.6697e-01],\n",
            "          [ 3.1015e-02, -6.5803e-02, -1.3171e-01]],\n",
            "\n",
            "         [[ 4.7407e-02, -2.7588e-02, -5.1127e-02],\n",
            "          [ 7.0129e-02,  8.2528e-03, -1.8340e-02],\n",
            "          [ 6.9918e-02,  3.8993e-02,  1.6228e-02]],\n",
            "\n",
            "         [[ 7.0700e-02,  5.2703e-03, -4.7362e-02],\n",
            "          [ 8.4006e-02,  4.9190e-02, -1.6474e-03],\n",
            "          [ 8.5166e-03,  2.2350e-02,  5.9118e-03]],\n",
            "\n",
            "         ...,\n",
            "\n",
            "         [[ 2.7666e-02,  2.1778e-02, -9.4606e-03],\n",
            "          [ 2.5511e-02,  4.1186e-03, -3.4521e-02],\n",
            "          [ 2.0150e-02,  3.7068e-02, -1.3509e-02]],\n",
            "\n",
            "         [[ 2.1684e-02,  4.1812e-02,  5.8284e-02],\n",
            "          [ 2.7431e-02,  3.6847e-02,  3.4335e-02],\n",
            "          [-9.4839e-03,  1.9745e-02,  5.0264e-02]],\n",
            "\n",
            "         [[ 2.1769e-02, -2.1388e-02, -9.9363e-02],\n",
            "          [-5.7156e-02, -7.1328e-02, -7.7600e-02],\n",
            "          [-3.7508e-02, -2.5453e-02, -4.5096e-03]]],\n",
            "\n",
            "\n",
            "        [[[-1.3319e-02, -7.7979e-02, -1.3496e-01],\n",
            "          [-3.7411e-02, -8.1807e-02, -1.4195e-01],\n",
            "          [-4.1913e-02, -1.0756e-01, -1.6164e-01]],\n",
            "\n",
            "         [[-6.8725e-03,  4.8598e-02,  1.5008e-02],\n",
            "          [ 1.8636e-02,  9.8393e-03, -1.5973e-02],\n",
            "          [ 9.5164e-04, -3.2665e-02, -3.5824e-02]],\n",
            "\n",
            "         [[ 1.4780e-02, -1.4260e-02, -4.4468e-02],\n",
            "          [-1.8438e-02,  1.4841e-02, -8.2337e-02],\n",
            "          [ 1.8329e-02,  2.1435e-03,  9.0911e-03]],\n",
            "\n",
            "         ...,\n",
            "\n",
            "         [[ 4.0342e-02,  3.6146e-02,  2.5515e-02],\n",
            "          [ 1.5779e-02,  3.1012e-03, -1.0942e-02],\n",
            "          [ 2.3790e-02,  1.6440e-02, -2.5835e-02]],\n",
            "\n",
            "         [[-2.2844e-02,  2.5371e-03, -2.1714e-02],\n",
            "          [ 3.9534e-04, -6.4903e-03,  1.6979e-02],\n",
            "          [-4.7200e-03, -2.2301e-02, -2.1298e-02]],\n",
            "\n",
            "         [[-2.8434e-02, -2.6771e-02,  2.7432e-02],\n",
            "          [-5.8088e-02, -5.5869e-02,  7.0289e-02],\n",
            "          [-6.4470e-02, -3.8172e-02,  4.1569e-02]]],\n",
            "\n",
            "\n",
            "        [[[ 1.2508e-02,  2.4738e-02,  5.3893e-02],\n",
            "          [-2.5838e-02, -1.6176e-02,  2.8344e-02],\n",
            "          [ 1.2948e-02,  9.0717e-03,  2.8181e-02]],\n",
            "\n",
            "         [[-7.9309e-02, -8.8828e-02, -5.5737e-02],\n",
            "          [-4.8359e-02, -1.1139e-01, -1.0901e-02],\n",
            "          [ 3.4640e-02,  2.3298e-02,  1.1002e-01]],\n",
            "\n",
            "         [[-4.3616e-02, -1.6598e-02, -1.0547e-02],\n",
            "          [ 2.8982e-02,  4.5279e-02,  1.6869e-02],\n",
            "          [ 8.8168e-02,  1.2599e-01,  7.2292e-02]],\n",
            "\n",
            "         ...,\n",
            "\n",
            "         [[ 1.3967e-03,  1.5333e-02, -1.7196e-02],\n",
            "          [-8.3107e-03, -1.2905e-02, -1.4394e-03],\n",
            "          [ 6.3471e-03,  1.7825e-03, -3.3770e-02]],\n",
            "\n",
            "         [[-7.9354e-03, -5.8610e-03, -7.6292e-05],\n",
            "          [ 6.8661e-04, -6.0019e-03,  1.0119e-02],\n",
            "          [ 3.0581e-02,  1.6821e-02,  3.2570e-02]],\n",
            "\n",
            "         [[ 5.9351e-02, -7.4398e-03,  3.8274e-02],\n",
            "          [-2.0792e-02, -4.8833e-02,  4.0274e-02],\n",
            "          [ 2.3138e-02,  7.4794e-03,  3.5027e-02]]],\n",
            "\n",
            "\n",
            "        ...,\n",
            "\n",
            "\n",
            "        [[[-4.5464e-02, -2.9275e-02,  1.0282e-02],\n",
            "          [-4.6952e-02, -4.9473e-02,  1.7632e-02],\n",
            "          [-4.3815e-02, -2.4871e-02, -2.4908e-02]],\n",
            "\n",
            "         [[-1.9359e-02,  1.5948e-02, -6.3554e-02],\n",
            "          [ 3.0096e-02,  2.8515e-02, -6.4439e-02],\n",
            "          [-1.4547e-02,  2.2238e-03, -6.3371e-02]],\n",
            "\n",
            "         [[-2.7915e-02, -2.1738e-02, -5.1691e-02],\n",
            "          [ 1.0889e-02, -5.1994e-02, -5.4649e-02],\n",
            "          [-3.9741e-02,  5.2832e-04,  3.5375e-02]],\n",
            "\n",
            "         ...,\n",
            "\n",
            "         [[-1.9130e-03,  1.0995e-03, -7.4082e-03],\n",
            "          [ 1.8428e-03,  8.2602e-03,  1.8680e-02],\n",
            "          [ 1.1709e-02,  6.9263e-03,  3.3630e-02]],\n",
            "\n",
            "         [[ 8.9195e-03,  3.2807e-02,  3.9282e-02],\n",
            "          [-2.5044e-03,  1.7645e-03,  1.4056e-02],\n",
            "          [-5.4708e-03,  9.5572e-03,  2.8639e-02]],\n",
            "\n",
            "         [[-3.0241e-02, -6.7225e-02, -7.4299e-02],\n",
            "          [-3.6222e-02, -9.7721e-03,  6.1669e-02],\n",
            "          [-1.6392e-02,  5.8156e-02,  1.2894e-01]]],\n",
            "\n",
            "\n",
            "        [[[ 4.0321e-02,  3.7677e-02,  1.7181e-02],\n",
            "          [ 4.0298e-02,  2.9479e-02,  1.6698e-02],\n",
            "          [-4.8739e-03,  2.1128e-02, -2.6295e-03]],\n",
            "\n",
            "         [[ 3.1079e-02, -1.6475e-02,  1.0769e-02],\n",
            "          [-5.8626e-02, -4.6721e-02, -2.7764e-02],\n",
            "          [-3.1245e-02,  1.7635e-02, -1.2211e-02]],\n",
            "\n",
            "         [[-9.8675e-02, -9.8915e-02, -1.3225e-01],\n",
            "          [ 7.3214e-02, -7.5238e-03, -7.4033e-02],\n",
            "          [ 1.7070e-01,  1.8346e-01,  3.3906e-02]],\n",
            "\n",
            "         ...,\n",
            "\n",
            "         [[ 2.5318e-02,  3.2680e-02,  5.2874e-03],\n",
            "          [-4.1894e-03,  2.0011e-02,  1.6021e-02],\n",
            "          [-4.8276e-03, -2.9130e-02,  7.4975e-04]],\n",
            "\n",
            "         [[ 7.1959e-03, -5.1528e-03,  5.1333e-03],\n",
            "          [-8.6466e-04,  1.2417e-02,  2.0805e-02],\n",
            "          [ 2.4862e-03, -1.3194e-02,  3.6563e-03]],\n",
            "\n",
            "         [[ 3.2415e-02,  1.0823e-02,  3.1720e-02],\n",
            "          [-8.4911e-03,  5.9831e-02,  3.4606e-02],\n",
            "          [-2.0674e-02,  1.6525e-02, -1.3183e-02]]],\n",
            "\n",
            "\n",
            "        [[[-6.6955e-02,  1.0821e-02,  7.9260e-02],\n",
            "          [ 1.0361e-02, -3.3380e-02,  5.2775e-02],\n",
            "          [-3.8372e-02, -3.0964e-02,  6.5422e-02]],\n",
            "\n",
            "         [[ 5.4925e-02, -1.9160e-01,  9.9709e-02],\n",
            "          [-1.8754e-01,  1.3248e-02,  2.4748e-01],\n",
            "          [-5.6662e-03,  2.8737e-02, -8.9787e-02]],\n",
            "\n",
            "         [[-1.4905e-01, -1.2974e-01,  1.7649e-01],\n",
            "          [-1.5774e-01,  1.5130e-01,  8.4126e-02],\n",
            "          [ 9.4988e-02,  8.5186e-02, -3.3635e-02]],\n",
            "\n",
            "         ...,\n",
            "\n",
            "         [[ 1.2278e-02,  3.3348e-02, -1.0524e-02],\n",
            "          [ 5.0310e-02, -9.1280e-03, -3.3890e-02],\n",
            "          [ 1.3459e-02, -2.9601e-02,  2.6862e-02]],\n",
            "\n",
            "         [[ 3.1006e-02,  2.8481e-02,  5.2361e-03],\n",
            "          [ 3.8914e-03, -1.8899e-02, -2.1819e-02],\n",
            "          [-8.4505e-03, -3.6632e-02, -1.9476e-02]],\n",
            "\n",
            "         [[ 2.3835e-02,  4.5658e-02,  6.7297e-02],\n",
            "          [ 1.1103e-02,  3.2035e-02, -5.8449e-02],\n",
            "          [ 2.6805e-02, -9.3975e-02, -4.0504e-02]]]], requires_grad=True)\n"
          ]
        }
      ]
    },
    {
      "cell_type": "markdown",
      "source": [
        "Q.2 **Observe the difference between normal and group convolutions. Also try depthwise convolutions, where groups=in_channels**"
      ],
      "metadata": {
        "id": "7ojsvlPQLGYa"
      }
    },
    {
      "cell_type": "code",
      "source": [
        "import torch.nn as nn"
      ],
      "metadata": {
        "id": "Gt32_6e1JokS"
      },
      "execution_count": 8,
      "outputs": []
    },
    {
      "cell_type": "code",
      "source": [
        "#Normal Convolution\n",
        "conv = nn.Conv2d(\n",
        "    in_channels=4,\n",
        "    out_channels = 4,\n",
        "    kernel_size = 3,\n",
        "    stride = 1,\n",
        "    padding= 'same',\n",
        "    groups = 1\n",
        ")\n",
        "print(conv.weight.shape)"
      ],
      "metadata": {
        "colab": {
          "base_uri": "https://localhost:8080/"
        },
        "id": "XEC3lg9lxD1q",
        "outputId": "46d92f13-6cc0-4e9e-aceb-b11fc9a49639"
      },
      "execution_count": 9,
      "outputs": [
        {
          "output_type": "stream",
          "name": "stdout",
          "text": [
            "torch.Size([4, 4, 3, 3])\n"
          ]
        }
      ]
    },
    {
      "cell_type": "code",
      "source": [
        "#Group convolution with group size = 2\n",
        "conv_group = nn.Conv2d(\n",
        "    in_channels=4,\n",
        "    out_channels = 4,\n",
        "    kernel_size = 3,\n",
        "    stride = 1,\n",
        "    padding= 1 ,\n",
        "    groups = 2\n",
        ")\n",
        "print(conv_group.weight.shape)"
      ],
      "metadata": {
        "colab": {
          "base_uri": "https://localhost:8080/"
        },
        "id": "_JiyT1Y9xqbV",
        "outputId": "a2bf50be-e5e0-416d-bb5f-fc10628a5e70"
      },
      "execution_count": 10,
      "outputs": [
        {
          "output_type": "stream",
          "name": "stdout",
          "text": [
            "torch.Size([4, 2, 3, 3])\n"
          ]
        }
      ]
    },
    {
      "cell_type": "code",
      "source": [
        "conv_group = nn.Conv2d(\n",
        "    in_channels=4,\n",
        "    out_channels = 8,\n",
        "    kernel_size = 3,\n",
        "    stride = 1,\n",
        "    padding= 1 ,\n",
        "    groups = 4\n",
        ")\n",
        "print(conv_group.weight.shape)"
      ],
      "metadata": {
        "colab": {
          "base_uri": "https://localhost:8080/"
        },
        "id": "UlSHlEcl1JwZ",
        "outputId": "c05e9334-c80d-44fa-e659-22f61f083cf5"
      },
      "execution_count": 11,
      "outputs": [
        {
          "output_type": "stream",
          "name": "stdout",
          "text": [
            "torch.Size([8, 1, 3, 3])\n"
          ]
        }
      ]
    },
    {
      "cell_type": "markdown",
      "source": [
        "Q.3 **Load a pretrained model and perform transfer learning on it.**"
      ],
      "metadata": {
        "id": "HrCtMsprjLOR"
      }
    },
    {
      "cell_type": "code",
      "source": [
        "from __future__ import print_function, division\n",
        "\n",
        "import torch\n",
        "import torch.nn as nn\n",
        "import torch.optim as optim\n",
        "from torch.optim import lr_scheduler\n",
        "import numpy as np\n",
        "import torchvision\n",
        "from torchvision import datasets, models, transforms\n",
        "import matplotlib.pyplot as plt\n",
        "import time\n",
        "import os\n",
        "import copy\n",
        "\n",
        "plt.ion()"
      ],
      "metadata": {
        "id": "qZTffX5Bx5xd"
      },
      "execution_count": 12,
      "outputs": []
    },
    {
      "cell_type": "code",
      "source": [
        "!wget https://download.pytorch.org/tutorial/hymenoptera_data.zip"
      ],
      "metadata": {
        "colab": {
          "base_uri": "https://localhost:8080/"
        },
        "id": "nMeVOlHmjR2o",
        "outputId": "044005e2-c5f6-45c1-f9cf-2419b02276b2"
      },
      "execution_count": 13,
      "outputs": [
        {
          "output_type": "stream",
          "name": "stdout",
          "text": [
            "--2022-01-26 17:48:04--  https://download.pytorch.org/tutorial/hymenoptera_data.zip\n",
            "Resolving download.pytorch.org (download.pytorch.org)... 54.230.19.35, 54.230.19.15, 54.230.19.119, ...\n",
            "Connecting to download.pytorch.org (download.pytorch.org)|54.230.19.35|:443... connected.\n",
            "HTTP request sent, awaiting response... 200 OK\n",
            "Length: 47286322 (45M) [application/zip]\n",
            "Saving to: ‘hymenoptera_data.zip’\n",
            "\n",
            "hymenoptera_data.zi 100%[===================>]  45.10M  34.0MB/s    in 1.3s    \n",
            "\n",
            "2022-01-26 17:48:05 (34.0 MB/s) - ‘hymenoptera_data.zip’ saved [47286322/47286322]\n",
            "\n"
          ]
        }
      ]
    },
    {
      "cell_type": "code",
      "source": [
        "!unzip hymenoptera_data.zip"
      ],
      "metadata": {
        "colab": {
          "base_uri": "https://localhost:8080/"
        },
        "id": "Wgixz1M3jW6M",
        "outputId": "8b364727-2b65-4264-cc18-310e63362ac4"
      },
      "execution_count": 15,
      "outputs": [
        {
          "output_type": "stream",
          "name": "stdout",
          "text": [
            "Archive:  hymenoptera_data.zip\n",
            "   creating: hymenoptera_data/\n",
            "   creating: hymenoptera_data/train/\n",
            "   creating: hymenoptera_data/train/ants/\n",
            "  inflating: hymenoptera_data/train/ants/0013035.jpg  \n",
            "  inflating: hymenoptera_data/train/ants/1030023514_aad5c608f9.jpg  \n",
            "  inflating: hymenoptera_data/train/ants/1095476100_3906d8afde.jpg  \n",
            "  inflating: hymenoptera_data/train/ants/1099452230_d1949d3250.jpg  \n",
            "  inflating: hymenoptera_data/train/ants/116570827_e9c126745d.jpg  \n",
            "  inflating: hymenoptera_data/train/ants/1225872729_6f0856588f.jpg  \n",
            "  inflating: hymenoptera_data/train/ants/1262877379_64fcada201.jpg  \n",
            "  inflating: hymenoptera_data/train/ants/1269756697_0bce92cdab.jpg  \n",
            "  inflating: hymenoptera_data/train/ants/1286984635_5119e80de1.jpg  \n",
            "  inflating: hymenoptera_data/train/ants/132478121_2a430adea2.jpg  \n",
            "  inflating: hymenoptera_data/train/ants/1360291657_dc248c5eea.jpg  \n",
            "  inflating: hymenoptera_data/train/ants/1368913450_e146e2fb6d.jpg  \n",
            "  inflating: hymenoptera_data/train/ants/1473187633_63ccaacea6.jpg  \n",
            "  inflating: hymenoptera_data/train/ants/148715752_302c84f5a4.jpg  \n",
            "  inflating: hymenoptera_data/train/ants/1489674356_09d48dde0a.jpg  \n",
            "  inflating: hymenoptera_data/train/ants/149244013_c529578289.jpg  \n",
            "  inflating: hymenoptera_data/train/ants/150801003_3390b73135.jpg  \n",
            "  inflating: hymenoptera_data/train/ants/150801171_cd86f17ed8.jpg  \n",
            "  inflating: hymenoptera_data/train/ants/154124431_65460430f2.jpg  \n",
            "  inflating: hymenoptera_data/train/ants/162603798_40b51f1654.jpg  \n",
            "  inflating: hymenoptera_data/train/ants/1660097129_384bf54490.jpg  \n",
            "  inflating: hymenoptera_data/train/ants/167890289_dd5ba923f3.jpg  \n",
            "  inflating: hymenoptera_data/train/ants/1693954099_46d4c20605.jpg  \n",
            "  inflating: hymenoptera_data/train/ants/175998972.jpg  \n",
            "  inflating: hymenoptera_data/train/ants/178538489_bec7649292.jpg  \n",
            "  inflating: hymenoptera_data/train/ants/1804095607_0341701e1c.jpg  \n",
            "  inflating: hymenoptera_data/train/ants/1808777855_2a895621d7.jpg  \n",
            "  inflating: hymenoptera_data/train/ants/188552436_605cc9b36b.jpg  \n",
            "  inflating: hymenoptera_data/train/ants/1917341202_d00a7f9af5.jpg  \n",
            "  inflating: hymenoptera_data/train/ants/1924473702_daa9aacdbe.jpg  \n",
            "  inflating: hymenoptera_data/train/ants/196057951_63bf063b92.jpg  \n",
            "  inflating: hymenoptera_data/train/ants/196757565_326437f5fe.jpg  \n",
            "  inflating: hymenoptera_data/train/ants/201558278_fe4caecc76.jpg  \n",
            "  inflating: hymenoptera_data/train/ants/201790779_527f4c0168.jpg  \n",
            "  inflating: hymenoptera_data/train/ants/2019439677_2db655d361.jpg  \n",
            "  inflating: hymenoptera_data/train/ants/207947948_3ab29d7207.jpg  \n",
            "  inflating: hymenoptera_data/train/ants/20935278_9190345f6b.jpg  \n",
            "  inflating: hymenoptera_data/train/ants/224655713_3956f7d39a.jpg  \n",
            "  inflating: hymenoptera_data/train/ants/2265824718_2c96f485da.jpg  \n",
            "  inflating: hymenoptera_data/train/ants/2265825502_fff99cfd2d.jpg  \n",
            "  inflating: hymenoptera_data/train/ants/226951206_d6bf946504.jpg  \n",
            "  inflating: hymenoptera_data/train/ants/2278278459_6b99605e50.jpg  \n",
            "  inflating: hymenoptera_data/train/ants/2288450226_a6e96e8fdf.jpg  \n",
            "  inflating: hymenoptera_data/train/ants/2288481644_83ff7e4572.jpg  \n",
            "  inflating: hymenoptera_data/train/ants/2292213964_ca51ce4bef.jpg  \n",
            "  inflating: hymenoptera_data/train/ants/24335309_c5ea483bb8.jpg  \n",
            "  inflating: hymenoptera_data/train/ants/245647475_9523dfd13e.jpg  \n",
            "  inflating: hymenoptera_data/train/ants/255434217_1b2b3fe0a4.jpg  \n",
            "  inflating: hymenoptera_data/train/ants/258217966_d9d90d18d3.jpg  \n",
            "  inflating: hymenoptera_data/train/ants/275429470_b2d7d9290b.jpg  \n",
            "  inflating: hymenoptera_data/train/ants/28847243_e79fe052cd.jpg  \n",
            "  inflating: hymenoptera_data/train/ants/318052216_84dff3f98a.jpg  \n",
            "  inflating: hymenoptera_data/train/ants/334167043_cbd1adaeb9.jpg  \n",
            "  inflating: hymenoptera_data/train/ants/339670531_94b75ae47a.jpg  \n",
            "  inflating: hymenoptera_data/train/ants/342438950_a3da61deab.jpg  \n",
            "  inflating: hymenoptera_data/train/ants/36439863_0bec9f554f.jpg  \n",
            "  inflating: hymenoptera_data/train/ants/374435068_7eee412ec4.jpg  \n",
            "  inflating: hymenoptera_data/train/ants/382971067_0bfd33afe0.jpg  \n",
            "  inflating: hymenoptera_data/train/ants/384191229_5779cf591b.jpg  \n",
            "  inflating: hymenoptera_data/train/ants/386190770_672743c9a7.jpg  \n",
            "  inflating: hymenoptera_data/train/ants/392382602_1b7bed32fa.jpg  \n",
            "  inflating: hymenoptera_data/train/ants/403746349_71384f5b58.jpg  \n",
            "  inflating: hymenoptera_data/train/ants/408393566_b5b694119b.jpg  \n",
            "  inflating: hymenoptera_data/train/ants/424119020_6d57481dab.jpg  \n",
            "  inflating: hymenoptera_data/train/ants/424873399_47658a91fb.jpg  \n",
            "  inflating: hymenoptera_data/train/ants/450057712_771b3bfc91.jpg  \n",
            "  inflating: hymenoptera_data/train/ants/45472593_bfd624f8dc.jpg  \n",
            "  inflating: hymenoptera_data/train/ants/459694881_ac657d3187.jpg  \n",
            "  inflating: hymenoptera_data/train/ants/460372577_f2f6a8c9fc.jpg  \n",
            "  inflating: hymenoptera_data/train/ants/460874319_0a45ab4d05.jpg  \n",
            "  inflating: hymenoptera_data/train/ants/466430434_4000737de9.jpg  \n",
            "  inflating: hymenoptera_data/train/ants/470127037_513711fd21.jpg  \n",
            "  inflating: hymenoptera_data/train/ants/474806473_ca6caab245.jpg  \n",
            "  inflating: hymenoptera_data/train/ants/475961153_b8c13fd405.jpg  \n",
            "  inflating: hymenoptera_data/train/ants/484293231_e53cfc0c89.jpg  \n",
            "  inflating: hymenoptera_data/train/ants/49375974_e28ba6f17e.jpg  \n",
            "  inflating: hymenoptera_data/train/ants/506249802_207cd979b4.jpg  \n",
            "  inflating: hymenoptera_data/train/ants/506249836_717b73f540.jpg  \n",
            "  inflating: hymenoptera_data/train/ants/512164029_c0a66b8498.jpg  \n",
            "  inflating: hymenoptera_data/train/ants/512863248_43c8ce579b.jpg  \n",
            "  inflating: hymenoptera_data/train/ants/518773929_734dbc5ff4.jpg  \n",
            "  inflating: hymenoptera_data/train/ants/522163566_fec115ca66.jpg  \n",
            "  inflating: hymenoptera_data/train/ants/522415432_2218f34bf8.jpg  \n",
            "  inflating: hymenoptera_data/train/ants/531979952_bde12b3bc0.jpg  \n",
            "  inflating: hymenoptera_data/train/ants/533848102_70a85ad6dd.jpg  \n",
            "  inflating: hymenoptera_data/train/ants/535522953_308353a07c.jpg  \n",
            "  inflating: hymenoptera_data/train/ants/540889389_48bb588b21.jpg  \n",
            "  inflating: hymenoptera_data/train/ants/541630764_dbd285d63c.jpg  \n",
            "  inflating: hymenoptera_data/train/ants/543417860_b14237f569.jpg  \n",
            "  inflating: hymenoptera_data/train/ants/560966032_988f4d7bc4.jpg  \n",
            "  inflating: hymenoptera_data/train/ants/5650366_e22b7e1065.jpg  \n",
            "  inflating: hymenoptera_data/train/ants/6240329_72c01e663e.jpg  \n",
            "  inflating: hymenoptera_data/train/ants/6240338_93729615ec.jpg  \n",
            "  inflating: hymenoptera_data/train/ants/649026570_e58656104b.jpg  \n",
            "  inflating: hymenoptera_data/train/ants/662541407_ff8db781e7.jpg  \n",
            "  inflating: hymenoptera_data/train/ants/67270775_e9fdf77e9d.jpg  \n",
            "  inflating: hymenoptera_data/train/ants/6743948_2b8c096dda.jpg  \n",
            "  inflating: hymenoptera_data/train/ants/684133190_35b62c0c1d.jpg  \n",
            "  inflating: hymenoptera_data/train/ants/69639610_95e0de17aa.jpg  \n",
            "  inflating: hymenoptera_data/train/ants/707895295_009cf23188.jpg  \n",
            "  inflating: hymenoptera_data/train/ants/7759525_1363d24e88.jpg  \n",
            "  inflating: hymenoptera_data/train/ants/795000156_a9900a4a71.jpg  \n",
            "  inflating: hymenoptera_data/train/ants/822537660_caf4ba5514.jpg  \n",
            "  inflating: hymenoptera_data/train/ants/82852639_52b7f7f5e3.jpg  \n",
            "  inflating: hymenoptera_data/train/ants/841049277_b28e58ad05.jpg  \n",
            "  inflating: hymenoptera_data/train/ants/886401651_f878e888cd.jpg  \n",
            "  inflating: hymenoptera_data/train/ants/892108839_f1aad4ca46.jpg  \n",
            "  inflating: hymenoptera_data/train/ants/938946700_ca1c669085.jpg  \n",
            "  inflating: hymenoptera_data/train/ants/957233405_25c1d1187b.jpg  \n",
            "  inflating: hymenoptera_data/train/ants/9715481_b3cb4114ff.jpg  \n",
            "  inflating: hymenoptera_data/train/ants/998118368_6ac1d91f81.jpg  \n",
            "  inflating: hymenoptera_data/train/ants/ant photos.jpg  \n",
            "  inflating: hymenoptera_data/train/ants/Ant_1.jpg  \n",
            "  inflating: hymenoptera_data/train/ants/army-ants-red-picture.jpg  \n",
            "  inflating: hymenoptera_data/train/ants/formica.jpeg  \n",
            "  inflating: hymenoptera_data/train/ants/hormiga_co_por.jpg  \n",
            "  inflating: hymenoptera_data/train/ants/imageNotFound.gif  \n",
            "  inflating: hymenoptera_data/train/ants/kurokusa.jpg  \n",
            "  inflating: hymenoptera_data/train/ants/MehdiabadiAnt2_600.jpg  \n",
            "  inflating: hymenoptera_data/train/ants/Nepenthes_rafflesiana_ant.jpg  \n",
            "  inflating: hymenoptera_data/train/ants/swiss-army-ant.jpg  \n",
            "  inflating: hymenoptera_data/train/ants/termite-vs-ant.jpg  \n",
            "  inflating: hymenoptera_data/train/ants/trap-jaw-ant-insect-bg.jpg  \n",
            "  inflating: hymenoptera_data/train/ants/VietnameseAntMimicSpider.jpg  \n",
            "   creating: hymenoptera_data/train/bees/\n",
            "  inflating: hymenoptera_data/train/bees/1092977343_cb42b38d62.jpg  \n",
            "  inflating: hymenoptera_data/train/bees/1093831624_fb5fbe2308.jpg  \n",
            "  inflating: hymenoptera_data/train/bees/1097045929_1753d1c765.jpg  \n",
            "  inflating: hymenoptera_data/train/bees/1232245714_f862fbe385.jpg  \n",
            "  inflating: hymenoptera_data/train/bees/129236073_0985e91c7d.jpg  \n",
            "  inflating: hymenoptera_data/train/bees/1295655112_7813f37d21.jpg  \n",
            "  inflating: hymenoptera_data/train/bees/132511197_0b86ad0fff.jpg  \n",
            "  inflating: hymenoptera_data/train/bees/132826773_dbbcb117b9.jpg  \n",
            "  inflating: hymenoptera_data/train/bees/150013791_969d9a968b.jpg  \n",
            "  inflating: hymenoptera_data/train/bees/1508176360_2972117c9d.jpg  \n",
            "  inflating: hymenoptera_data/train/bees/154600396_53e1252e52.jpg  \n",
            "  inflating: hymenoptera_data/train/bees/16838648_415acd9e3f.jpg  \n",
            "  inflating: hymenoptera_data/train/bees/1691282715_0addfdf5e8.jpg  \n",
            "  inflating: hymenoptera_data/train/bees/17209602_fe5a5a746f.jpg  \n",
            "  inflating: hymenoptera_data/train/bees/174142798_e5ad6d76e0.jpg  \n",
            "  inflating: hymenoptera_data/train/bees/1799726602_8580867f71.jpg  \n",
            "  inflating: hymenoptera_data/train/bees/1807583459_4fe92b3133.jpg  \n",
            "  inflating: hymenoptera_data/train/bees/196430254_46bd129ae7.jpg  \n",
            "  inflating: hymenoptera_data/train/bees/196658222_3fffd79c67.jpg  \n",
            "  inflating: hymenoptera_data/train/bees/198508668_97d818b6c4.jpg  \n",
            "  inflating: hymenoptera_data/train/bees/2031225713_50ed499635.jpg  \n",
            "  inflating: hymenoptera_data/train/bees/2037437624_2d7bce461f.jpg  \n",
            "  inflating: hymenoptera_data/train/bees/2053200300_8911ef438a.jpg  \n",
            "  inflating: hymenoptera_data/train/bees/205835650_e6f2614bee.jpg  \n",
            "  inflating: hymenoptera_data/train/bees/208702903_42fb4d9748.jpg  \n",
            "  inflating: hymenoptera_data/train/bees/21399619_3e61e5bb6f.jpg  \n",
            "  inflating: hymenoptera_data/train/bees/2227611847_ec72d40403.jpg  \n",
            "  inflating: hymenoptera_data/train/bees/2321139806_d73d899e66.jpg  \n",
            "  inflating: hymenoptera_data/train/bees/2330918208_8074770c20.jpg  \n",
            "  inflating: hymenoptera_data/train/bees/2345177635_caf07159b3.jpg  \n",
            "  inflating: hymenoptera_data/train/bees/2358061370_9daabbd9ac.jpg  \n",
            "  inflating: hymenoptera_data/train/bees/2364597044_3c3e3fc391.jpg  \n",
            "  inflating: hymenoptera_data/train/bees/2384149906_2cd8b0b699.jpg  \n",
            "  inflating: hymenoptera_data/train/bees/2397446847_04ef3cd3e1.jpg  \n",
            "  inflating: hymenoptera_data/train/bees/2405441001_b06c36fa72.jpg  \n",
            "  inflating: hymenoptera_data/train/bees/2445215254_51698ff797.jpg  \n",
            "  inflating: hymenoptera_data/train/bees/2452236943_255bfd9e58.jpg  \n",
            "  inflating: hymenoptera_data/train/bees/2467959963_a7831e9ff0.jpg  \n",
            "  inflating: hymenoptera_data/train/bees/2470492904_837e97800d.jpg  \n",
            "  inflating: hymenoptera_data/train/bees/2477324698_3d4b1b1cab.jpg  \n",
            "  inflating: hymenoptera_data/train/bees/2477349551_e75c97cf4d.jpg  \n",
            "  inflating: hymenoptera_data/train/bees/2486729079_62df0920be.jpg  \n",
            "  inflating: hymenoptera_data/train/bees/2486746709_c43cec0e42.jpg  \n",
            "  inflating: hymenoptera_data/train/bees/2493379287_4100e1dacc.jpg  \n",
            "  inflating: hymenoptera_data/train/bees/2495722465_879acf9d85.jpg  \n",
            "  inflating: hymenoptera_data/train/bees/2528444139_fa728b0f5b.jpg  \n",
            "  inflating: hymenoptera_data/train/bees/2538361678_9da84b77e3.jpg  \n",
            "  inflating: hymenoptera_data/train/bees/2551813042_8a070aeb2b.jpg  \n",
            "  inflating: hymenoptera_data/train/bees/2580598377_a4caecdb54.jpg  \n",
            "  inflating: hymenoptera_data/train/bees/2601176055_8464e6aa71.jpg  \n",
            "  inflating: hymenoptera_data/train/bees/2610833167_79bf0bcae5.jpg  \n",
            "  inflating: hymenoptera_data/train/bees/2610838525_fe8e3cae47.jpg  \n",
            "  inflating: hymenoptera_data/train/bees/2617161745_fa3ebe85b4.jpg  \n",
            "  inflating: hymenoptera_data/train/bees/2625499656_e3415e374d.jpg  \n",
            "  inflating: hymenoptera_data/train/bees/2634617358_f32fd16bea.jpg  \n",
            "  inflating: hymenoptera_data/train/bees/2638074627_6b3ae746a0.jpg  \n",
            "  inflating: hymenoptera_data/train/bees/2645107662_b73a8595cc.jpg  \n",
            "  inflating: hymenoptera_data/train/bees/2651621464_a2fa8722eb.jpg  \n",
            "  inflating: hymenoptera_data/train/bees/2652877533_a564830cbf.jpg  \n",
            "  inflating: hymenoptera_data/train/bees/266644509_d30bb16a1b.jpg  \n",
            "  inflating: hymenoptera_data/train/bees/2683605182_9d2a0c66cf.jpg  \n",
            "  inflating: hymenoptera_data/train/bees/2704348794_eb5d5178c2.jpg  \n",
            "  inflating: hymenoptera_data/train/bees/2707440199_cd170bd512.jpg  \n",
            "  inflating: hymenoptera_data/train/bees/2710368626_cb42882dc8.jpg  \n",
            "  inflating: hymenoptera_data/train/bees/2722592222_258d473e17.jpg  \n",
            "  inflating: hymenoptera_data/train/bees/2728759455_ce9bb8cd7a.jpg  \n",
            "  inflating: hymenoptera_data/train/bees/2756397428_1d82a08807.jpg  \n",
            "  inflating: hymenoptera_data/train/bees/2765347790_da6cf6cb40.jpg  \n",
            "  inflating: hymenoptera_data/train/bees/2781170484_5d61835d63.jpg  \n",
            "  inflating: hymenoptera_data/train/bees/279113587_b4843db199.jpg  \n",
            "  inflating: hymenoptera_data/train/bees/2792000093_e8ae0718cf.jpg  \n",
            "  inflating: hymenoptera_data/train/bees/2801728106_833798c909.jpg  \n",
            "  inflating: hymenoptera_data/train/bees/2822388965_f6dca2a275.jpg  \n",
            "  inflating: hymenoptera_data/train/bees/2861002136_52c7c6f708.jpg  \n",
            "  inflating: hymenoptera_data/train/bees/2908916142_a7ac8b57a8.jpg  \n",
            "  inflating: hymenoptera_data/train/bees/29494643_e3410f0d37.jpg  \n",
            "  inflating: hymenoptera_data/train/bees/2959730355_416a18c63c.jpg  \n",
            "  inflating: hymenoptera_data/train/bees/2962405283_22718d9617.jpg  \n",
            "  inflating: hymenoptera_data/train/bees/3006264892_30e9cced70.jpg  \n",
            "  inflating: hymenoptera_data/train/bees/3030189811_01d095b793.jpg  \n",
            "  inflating: hymenoptera_data/train/bees/3030772428_8578335616.jpg  \n",
            "  inflating: hymenoptera_data/train/bees/3044402684_3853071a87.jpg  \n",
            "  inflating: hymenoptera_data/train/bees/3074585407_9854eb3153.jpg  \n",
            "  inflating: hymenoptera_data/train/bees/3079610310_ac2d0ae7bc.jpg  \n",
            "  inflating: hymenoptera_data/train/bees/3090975720_71f12e6de4.jpg  \n",
            "  inflating: hymenoptera_data/train/bees/3100226504_c0d4f1e3f1.jpg  \n",
            "  inflating: hymenoptera_data/train/bees/342758693_c56b89b6b6.jpg  \n",
            "  inflating: hymenoptera_data/train/bees/354167719_22dca13752.jpg  \n",
            "  inflating: hymenoptera_data/train/bees/359928878_b3b418c728.jpg  \n",
            "  inflating: hymenoptera_data/train/bees/365759866_b15700c59b.jpg  \n",
            "  inflating: hymenoptera_data/train/bees/36900412_92b81831ad.jpg  \n",
            "  inflating: hymenoptera_data/train/bees/39672681_1302d204d1.jpg  \n",
            "  inflating: hymenoptera_data/train/bees/39747887_42df2855ee.jpg  \n",
            "  inflating: hymenoptera_data/train/bees/421515404_e87569fd8b.jpg  \n",
            "  inflating: hymenoptera_data/train/bees/444532809_9e931e2279.jpg  \n",
            "  inflating: hymenoptera_data/train/bees/446296270_d9e8b93ecf.jpg  \n",
            "  inflating: hymenoptera_data/train/bees/452462677_7be43af8ff.jpg  \n",
            "  inflating: hymenoptera_data/train/bees/452462695_40a4e5b559.jpg  \n",
            "  inflating: hymenoptera_data/train/bees/457457145_5f86eb7e9c.jpg  \n",
            "  inflating: hymenoptera_data/train/bees/465133211_80e0c27f60.jpg  \n",
            "  inflating: hymenoptera_data/train/bees/469333327_358ba8fe8a.jpg  \n",
            "  inflating: hymenoptera_data/train/bees/472288710_2abee16fa0.jpg  \n",
            "  inflating: hymenoptera_data/train/bees/473618094_8ffdcab215.jpg  \n",
            "  inflating: hymenoptera_data/train/bees/476347960_52edd72b06.jpg  \n",
            "  inflating: hymenoptera_data/train/bees/478701318_bbd5e557b8.jpg  \n",
            "  inflating: hymenoptera_data/train/bees/507288830_f46e8d4cb2.jpg  \n",
            "  inflating: hymenoptera_data/train/bees/509247772_2db2d01374.jpg  \n",
            "  inflating: hymenoptera_data/train/bees/513545352_fd3e7c7c5d.jpg  \n",
            "  inflating: hymenoptera_data/train/bees/522104315_5d3cb2758e.jpg  \n",
            "  inflating: hymenoptera_data/train/bees/537309131_532bfa59ea.jpg  \n",
            "  inflating: hymenoptera_data/train/bees/586041248_3032e277a9.jpg  \n",
            "  inflating: hymenoptera_data/train/bees/760526046_547e8b381f.jpg  \n",
            "  inflating: hymenoptera_data/train/bees/760568592_45a52c847f.jpg  \n",
            "  inflating: hymenoptera_data/train/bees/774440991_63a4aa0cbe.jpg  \n",
            "  inflating: hymenoptera_data/train/bees/85112639_6e860b0469.jpg  \n",
            "  inflating: hymenoptera_data/train/bees/873076652_eb098dab2d.jpg  \n",
            "  inflating: hymenoptera_data/train/bees/90179376_abc234e5f4.jpg  \n",
            "  inflating: hymenoptera_data/train/bees/92663402_37f379e57a.jpg  \n",
            "  inflating: hymenoptera_data/train/bees/95238259_98470c5b10.jpg  \n",
            "  inflating: hymenoptera_data/train/bees/969455125_58c797ef17.jpg  \n",
            "  inflating: hymenoptera_data/train/bees/98391118_bdb1e80cce.jpg  \n",
            "   creating: hymenoptera_data/val/\n",
            "   creating: hymenoptera_data/val/ants/\n",
            "  inflating: hymenoptera_data/val/ants/10308379_1b6c72e180.jpg  \n",
            "  inflating: hymenoptera_data/val/ants/1053149811_f62a3410d3.jpg  \n",
            "  inflating: hymenoptera_data/val/ants/1073564163_225a64f170.jpg  \n",
            "  inflating: hymenoptera_data/val/ants/1119630822_cd325ea21a.jpg  \n",
            "  inflating: hymenoptera_data/val/ants/1124525276_816a07c17f.jpg  \n",
            "  inflating: hymenoptera_data/val/ants/11381045_b352a47d8c.jpg  \n",
            "  inflating: hymenoptera_data/val/ants/119785936_dd428e40c3.jpg  \n",
            "  inflating: hymenoptera_data/val/ants/1247887232_edcb61246c.jpg  \n",
            "  inflating: hymenoptera_data/val/ants/1262751255_c56c042b7b.jpg  \n",
            "  inflating: hymenoptera_data/val/ants/1337725712_2eb53cd742.jpg  \n",
            "  inflating: hymenoptera_data/val/ants/1358854066_5ad8015f7f.jpg  \n",
            "  inflating: hymenoptera_data/val/ants/1440002809_b268d9a66a.jpg  \n",
            "  inflating: hymenoptera_data/val/ants/147542264_79506478c2.jpg  \n",
            "  inflating: hymenoptera_data/val/ants/152286280_411648ec27.jpg  \n",
            "  inflating: hymenoptera_data/val/ants/153320619_2aeb5fa0ee.jpg  \n",
            "  inflating: hymenoptera_data/val/ants/153783656_85f9c3ac70.jpg  \n",
            "  inflating: hymenoptera_data/val/ants/157401988_d0564a9d02.jpg  \n",
            "  inflating: hymenoptera_data/val/ants/159515240_d5981e20d1.jpg  \n",
            "  inflating: hymenoptera_data/val/ants/161076144_124db762d6.jpg  \n",
            "  inflating: hymenoptera_data/val/ants/161292361_c16e0bf57a.jpg  \n",
            "  inflating: hymenoptera_data/val/ants/170652283_ecdaff5d1a.jpg  \n",
            "  inflating: hymenoptera_data/val/ants/17081114_79b9a27724.jpg  \n",
            "  inflating: hymenoptera_data/val/ants/172772109_d0a8e15fb0.jpg  \n",
            "  inflating: hymenoptera_data/val/ants/1743840368_b5ccda82b7.jpg  \n",
            "  inflating: hymenoptera_data/val/ants/181942028_961261ef48.jpg  \n",
            "  inflating: hymenoptera_data/val/ants/183260961_64ab754c97.jpg  \n",
            "  inflating: hymenoptera_data/val/ants/2039585088_c6f47c592e.jpg  \n",
            "  inflating: hymenoptera_data/val/ants/205398178_c395c5e460.jpg  \n",
            "  inflating: hymenoptera_data/val/ants/208072188_f293096296.jpg  \n",
            "  inflating: hymenoptera_data/val/ants/209615353_eeb38ba204.jpg  \n",
            "  inflating: hymenoptera_data/val/ants/2104709400_8831b4fc6f.jpg  \n",
            "  inflating: hymenoptera_data/val/ants/212100470_b485e7b7b9.jpg  \n",
            "  inflating: hymenoptera_data/val/ants/2127908701_d49dc83c97.jpg  \n",
            "  inflating: hymenoptera_data/val/ants/2191997003_379df31291.jpg  \n",
            "  inflating: hymenoptera_data/val/ants/2211974567_ee4606b493.jpg  \n",
            "  inflating: hymenoptera_data/val/ants/2219621907_47bc7cc6b0.jpg  \n",
            "  inflating: hymenoptera_data/val/ants/2238242353_52c82441df.jpg  \n",
            "  inflating: hymenoptera_data/val/ants/2255445811_dabcdf7258.jpg  \n",
            "  inflating: hymenoptera_data/val/ants/239161491_86ac23b0a3.jpg  \n",
            "  inflating: hymenoptera_data/val/ants/263615709_cfb28f6b8e.jpg  \n",
            "  inflating: hymenoptera_data/val/ants/308196310_1db5ffa01b.jpg  \n",
            "  inflating: hymenoptera_data/val/ants/319494379_648fb5a1c6.jpg  \n",
            "  inflating: hymenoptera_data/val/ants/35558229_1fa4608a7a.jpg  \n",
            "  inflating: hymenoptera_data/val/ants/412436937_4c2378efc2.jpg  \n",
            "  inflating: hymenoptera_data/val/ants/436944325_d4925a38c7.jpg  \n",
            "  inflating: hymenoptera_data/val/ants/445356866_6cb3289067.jpg  \n",
            "  inflating: hymenoptera_data/val/ants/459442412_412fecf3fe.jpg  \n",
            "  inflating: hymenoptera_data/val/ants/470127071_8b8ee2bd74.jpg  \n",
            "  inflating: hymenoptera_data/val/ants/477437164_bc3e6e594a.jpg  \n",
            "  inflating: hymenoptera_data/val/ants/488272201_c5aa281348.jpg  \n",
            "  inflating: hymenoptera_data/val/ants/502717153_3e4865621a.jpg  \n",
            "  inflating: hymenoptera_data/val/ants/518746016_bcc28f8b5b.jpg  \n",
            "  inflating: hymenoptera_data/val/ants/540543309_ddbb193ee5.jpg  \n",
            "  inflating: hymenoptera_data/val/ants/562589509_7e55469b97.jpg  \n",
            "  inflating: hymenoptera_data/val/ants/57264437_a19006872f.jpg  \n",
            "  inflating: hymenoptera_data/val/ants/573151833_ebbc274b77.jpg  \n",
            "  inflating: hymenoptera_data/val/ants/649407494_9b6bc4949f.jpg  \n",
            "  inflating: hymenoptera_data/val/ants/751649788_78dd7d16ce.jpg  \n",
            "  inflating: hymenoptera_data/val/ants/768870506_8f115d3d37.jpg  \n",
            "  inflating: hymenoptera_data/val/ants/800px-Meat_eater_ant_qeen_excavating_hole.jpg  \n",
            "  inflating: hymenoptera_data/val/ants/8124241_36b290d372.jpg  \n",
            "  inflating: hymenoptera_data/val/ants/8398478_50ef10c47a.jpg  \n",
            "  inflating: hymenoptera_data/val/ants/854534770_31f6156383.jpg  \n",
            "  inflating: hymenoptera_data/val/ants/892676922_4ab37dce07.jpg  \n",
            "  inflating: hymenoptera_data/val/ants/94999827_36895faade.jpg  \n",
            "  inflating: hymenoptera_data/val/ants/Ant-1818.jpg  \n",
            "  inflating: hymenoptera_data/val/ants/ants-devouring-remains-of-large-dead-insect-on-red-tile-in-Stellenbosch-South-Africa-closeup-1-DHD.jpg  \n",
            "  inflating: hymenoptera_data/val/ants/desert_ant.jpg  \n",
            "  inflating: hymenoptera_data/val/ants/F.pergan.28(f).jpg  \n",
            "  inflating: hymenoptera_data/val/ants/Hormiga.jpg  \n",
            "   creating: hymenoptera_data/val/bees/\n",
            "  inflating: hymenoptera_data/val/bees/1032546534_06907fe3b3.jpg  \n",
            "  inflating: hymenoptera_data/val/bees/10870992_eebeeb3a12.jpg  \n",
            "  inflating: hymenoptera_data/val/bees/1181173278_23c36fac71.jpg  \n",
            "  inflating: hymenoptera_data/val/bees/1297972485_33266a18d9.jpg  \n",
            "  inflating: hymenoptera_data/val/bees/1328423762_f7a88a8451.jpg  \n",
            "  inflating: hymenoptera_data/val/bees/1355974687_1341c1face.jpg  \n",
            "  inflating: hymenoptera_data/val/bees/144098310_a4176fd54d.jpg  \n",
            "  inflating: hymenoptera_data/val/bees/1486120850_490388f84b.jpg  \n",
            "  inflating: hymenoptera_data/val/bees/149973093_da3c446268.jpg  \n",
            "  inflating: hymenoptera_data/val/bees/151594775_ee7dc17b60.jpg  \n",
            "  inflating: hymenoptera_data/val/bees/151603988_2c6f7d14c7.jpg  \n",
            "  inflating: hymenoptera_data/val/bees/1519368889_4270261ee3.jpg  \n",
            "  inflating: hymenoptera_data/val/bees/152789693_220b003452.jpg  \n",
            "  inflating: hymenoptera_data/val/bees/177677657_a38c97e572.jpg  \n",
            "  inflating: hymenoptera_data/val/bees/1799729694_0c40101071.jpg  \n",
            "  inflating: hymenoptera_data/val/bees/181171681_c5a1a82ded.jpg  \n",
            "  inflating: hymenoptera_data/val/bees/187130242_4593a4c610.jpg  \n",
            "  inflating: hymenoptera_data/val/bees/203868383_0fcbb48278.jpg  \n",
            "  inflating: hymenoptera_data/val/bees/2060668999_e11edb10d0.jpg  \n",
            "  inflating: hymenoptera_data/val/bees/2086294791_6f3789d8a6.jpg  \n",
            "  inflating: hymenoptera_data/val/bees/2103637821_8d26ee6b90.jpg  \n",
            "  inflating: hymenoptera_data/val/bees/2104135106_a65eede1de.jpg  \n",
            "  inflating: hymenoptera_data/val/bees/215512424_687e1e0821.jpg  \n",
            "  inflating: hymenoptera_data/val/bees/2173503984_9c6aaaa7e2.jpg  \n",
            "  inflating: hymenoptera_data/val/bees/220376539_20567395d8.jpg  \n",
            "  inflating: hymenoptera_data/val/bees/224841383_d050f5f510.jpg  \n",
            "  inflating: hymenoptera_data/val/bees/2321144482_f3785ba7b2.jpg  \n",
            "  inflating: hymenoptera_data/val/bees/238161922_55fa9a76ae.jpg  \n",
            "  inflating: hymenoptera_data/val/bees/2407809945_fb525ef54d.jpg  \n",
            "  inflating: hymenoptera_data/val/bees/2415414155_1916f03b42.jpg  \n",
            "  inflating: hymenoptera_data/val/bees/2438480600_40a1249879.jpg  \n",
            "  inflating: hymenoptera_data/val/bees/2444778727_4b781ac424.jpg  \n",
            "  inflating: hymenoptera_data/val/bees/2457841282_7867f16639.jpg  \n",
            "  inflating: hymenoptera_data/val/bees/2470492902_3572c90f75.jpg  \n",
            "  inflating: hymenoptera_data/val/bees/2478216347_535c8fe6d7.jpg  \n",
            "  inflating: hymenoptera_data/val/bees/2501530886_e20952b97d.jpg  \n",
            "  inflating: hymenoptera_data/val/bees/2506114833_90a41c5267.jpg  \n",
            "  inflating: hymenoptera_data/val/bees/2509402554_31821cb0b6.jpg  \n",
            "  inflating: hymenoptera_data/val/bees/2525379273_dcb26a516d.jpg  \n",
            "  inflating: hymenoptera_data/val/bees/26589803_5ba7000313.jpg  \n",
            "  inflating: hymenoptera_data/val/bees/2668391343_45e272cd07.jpg  \n",
            "  inflating: hymenoptera_data/val/bees/2670536155_c170f49cd0.jpg  \n",
            "  inflating: hymenoptera_data/val/bees/2685605303_9eed79d59d.jpg  \n",
            "  inflating: hymenoptera_data/val/bees/2702408468_d9ed795f4f.jpg  \n",
            "  inflating: hymenoptera_data/val/bees/2709775832_85b4b50a57.jpg  \n",
            "  inflating: hymenoptera_data/val/bees/2717418782_bd83307d9f.jpg  \n",
            "  inflating: hymenoptera_data/val/bees/272986700_d4d4bf8c4b.jpg  \n",
            "  inflating: hymenoptera_data/val/bees/2741763055_9a7bb00802.jpg  \n",
            "  inflating: hymenoptera_data/val/bees/2745389517_250a397f31.jpg  \n",
            "  inflating: hymenoptera_data/val/bees/2751836205_6f7b5eff30.jpg  \n",
            "  inflating: hymenoptera_data/val/bees/2782079948_8d4e94a826.jpg  \n",
            "  inflating: hymenoptera_data/val/bees/2809496124_5f25b5946a.jpg  \n",
            "  inflating: hymenoptera_data/val/bees/2815838190_0a9889d995.jpg  \n",
            "  inflating: hymenoptera_data/val/bees/2841437312_789699c740.jpg  \n",
            "  inflating: hymenoptera_data/val/bees/2883093452_7e3a1eb53f.jpg  \n",
            "  inflating: hymenoptera_data/val/bees/290082189_f66cb80bfc.jpg  \n",
            "  inflating: hymenoptera_data/val/bees/296565463_d07a7bed96.jpg  \n",
            "  inflating: hymenoptera_data/val/bees/3077452620_548c79fda0.jpg  \n",
            "  inflating: hymenoptera_data/val/bees/348291597_ee836fbb1a.jpg  \n",
            "  inflating: hymenoptera_data/val/bees/350436573_41f4ecb6c8.jpg  \n",
            "  inflating: hymenoptera_data/val/bees/353266603_d3eac7e9a0.jpg  \n",
            "  inflating: hymenoptera_data/val/bees/372228424_16da1f8884.jpg  \n",
            "  inflating: hymenoptera_data/val/bees/400262091_701c00031c.jpg  \n",
            "  inflating: hymenoptera_data/val/bees/416144384_961c326481.jpg  \n",
            "  inflating: hymenoptera_data/val/bees/44105569_16720a960c.jpg  \n",
            "  inflating: hymenoptera_data/val/bees/456097971_860949c4fc.jpg  \n",
            "  inflating: hymenoptera_data/val/bees/464594019_1b24a28bb1.jpg  \n",
            "  inflating: hymenoptera_data/val/bees/485743562_d8cc6b8f73.jpg  \n",
            "  inflating: hymenoptera_data/val/bees/540976476_844950623f.jpg  \n",
            "  inflating: hymenoptera_data/val/bees/54736755_c057723f64.jpg  \n",
            "  inflating: hymenoptera_data/val/bees/57459255_752774f1b2.jpg  \n",
            "  inflating: hymenoptera_data/val/bees/576452297_897023f002.jpg  \n",
            "  inflating: hymenoptera_data/val/bees/586474709_ae436da045.jpg  \n",
            "  inflating: hymenoptera_data/val/bees/590318879_68cf112861.jpg  \n",
            "  inflating: hymenoptera_data/val/bees/59798110_2b6a3c8031.jpg  \n",
            "  inflating: hymenoptera_data/val/bees/603709866_a97c7cfc72.jpg  \n",
            "  inflating: hymenoptera_data/val/bees/603711658_4c8cd2201e.jpg  \n",
            "  inflating: hymenoptera_data/val/bees/65038344_52a45d090d.jpg  \n",
            "  inflating: hymenoptera_data/val/bees/6a00d8341c630a53ef00e553d0beb18834-800wi.jpg  \n",
            "  inflating: hymenoptera_data/val/bees/72100438_73de9f17af.jpg  \n",
            "  inflating: hymenoptera_data/val/bees/759745145_e8bc776ec8.jpg  \n",
            "  inflating: hymenoptera_data/val/bees/936182217_c4caa5222d.jpg  \n",
            "  inflating: hymenoptera_data/val/bees/abeja.jpg  \n"
          ]
        }
      ]
    },
    {
      "cell_type": "code",
      "source": [
        "data_transforms = {\n",
        "    'train': transforms.Compose([\n",
        "        transforms.RandomResizedCrop(224),\n",
        "        transforms.RandomHorizontalFlip(),\n",
        "        transforms.ToTensor(),\n",
        "        transforms.Normalize([0.485, 0.456, 0.406], [0.229, 0.224, 0.225])\n",
        "    ]),\n",
        "    'val': transforms.Compose([\n",
        "        transforms.Resize(256),\n",
        "        transforms.CenterCrop(224),\n",
        "        transforms.ToTensor(),\n",
        "        transforms.Normalize([0.485, 0.456, 0.406], [0.229, 0.224, 0.225])\n",
        "    ]),\n",
        "}\n",
        "\n",
        "data_dir = 'hymenoptera_data'\n",
        "image_datasets = {x: datasets.ImageFolder(os.path.join(data_dir, x),\n",
        "                                          data_transforms[x])\n",
        "                  for x in ['train', 'val']}\n",
        "dataloaders = {x: torch.utils.data.DataLoader(image_datasets[x], batch_size=4,\n",
        "                                             shuffle=True, num_workers=4)\n",
        "              for x in ['train', 'val']}\n",
        "dataset_sizes = {x: len(image_datasets[x]) for x in ['train', 'val']}\n",
        "class_names = image_datasets['train'].classes\n",
        "\n",
        "device = torch.device(\"cuda:0\" if torch.cuda.is_available() else \"cpu\")"
      ],
      "metadata": {
        "colab": {
          "base_uri": "https://localhost:8080/"
        },
        "id": "-P0_VOMbjZz2",
        "outputId": "5ae94829-7f88-47f5-b93a-82aab6384ee3"
      },
      "execution_count": 16,
      "outputs": [
        {
          "output_type": "stream",
          "name": "stderr",
          "text": [
            "/usr/local/lib/python3.7/dist-packages/torch/utils/data/dataloader.py:481: UserWarning: This DataLoader will create 4 worker processes in total. Our suggested max number of worker in current system is 2, which is smaller than what this DataLoader is going to create. Please be aware that excessive worker creation might get DataLoader running slow or even freeze, lower the worker number to avoid potential slowness/freeze if necessary.\n",
            "  cpuset_checked))\n"
          ]
        }
      ]
    },
    {
      "cell_type": "code",
      "source": [
        "def imshow(inp, title=None):\n",
        "    \"\"\"Imshow for Tensor.\"\"\"\n",
        "    inp = inp.numpy().transpose((1, 2, 0))\n",
        "    mean = np.array([0.485, 0.456, 0.406])\n",
        "    std = np.array([0.229, 0.224, 0.225])\n",
        "    inp = std * inp + mean\n",
        "    inp = np.clip(inp, 0, 1)\n",
        "    plt.imshow(inp)\n",
        "    if title is not None:\n",
        "        plt.title(title)\n",
        "    plt.pause(0.001)  # pause a bit so that plots are updated\n",
        "\n",
        "\n",
        "# Get a batch of training data\n",
        "inputs, classes = next(iter(dataloaders['train']))\n",
        "\n",
        "# Make a grid from batch\n",
        "out = torchvision.utils.make_grid(inputs)\n",
        "\n",
        "imshow(out, title=[class_names[x] for x in classes])"
      ],
      "metadata": {
        "colab": {
          "base_uri": "https://localhost:8080/",
          "height": 202
        },
        "id": "K3AdsGzbjgLb",
        "outputId": "51704f33-f1d9-4b0a-cff1-25ce784a2f94"
      },
      "execution_count": 17,
      "outputs": [
        {
          "output_type": "stream",
          "name": "stderr",
          "text": [
            "/usr/local/lib/python3.7/dist-packages/torch/utils/data/dataloader.py:481: UserWarning: This DataLoader will create 4 worker processes in total. Our suggested max number of worker in current system is 2, which is smaller than what this DataLoader is going to create. Please be aware that excessive worker creation might get DataLoader running slow or even freeze, lower the worker number to avoid potential slowness/freeze if necessary.\n",
            "  cpuset_checked))\n"
          ]
        },
        {
          "output_type": "display_data",
          "data": {
            "image/png": "[encoded data removed]",
            "text/plain": [
              "<Figure size 432x288 with 1 Axes>"
            ]
          },
          "metadata": {
            "needs_background": "light"
          }
        }
      ]
    },
    {
      "cell_type": "code",
      "source": [
        "def train_model(model, criterion, optimizer, scheduler, num_epochs=25):\n",
        "    since = time.time()\n",
        "\n",
        "    best_model_wts = copy.deepcopy(model.state_dict())\n",
        "    best_acc = 0.0\n",
        "\n",
        "    for epoch in range(num_epochs):\n",
        "        print('Epoch {}/{}'.format(epoch, num_epochs - 1))\n",
        "        print('-' * 10)\n",
        "\n",
        "        # Each epoch has a training and validation phase\n",
        "        for phase in ['train', 'val']:\n",
        "            if phase == 'train':\n",
        "                model.train()  # Set model to training mode\n",
        "            else:\n",
        "                model.eval()   # Set model to evaluate mode\n",
        "\n",
        "            running_loss = 0.0\n",
        "            running_corrects = 0\n",
        "\n",
        "            # Iterate over data.\n",
        "            for inputs, labels in dataloaders[phase]:\n",
        "                inputs = inputs.to(device)\n",
        "                labels = labels.to(device)\n",
        "\n",
        "                # zero the parameter gradients\n",
        "                optimizer.zero_grad()\n",
        "\n",
        "                # forward\n",
        "                # track history if only in train\n",
        "                with torch.set_grad_enabled(phase == 'train'):\n",
        "                    outputs = model(inputs)\n",
        "                    _, preds = torch.max(outputs, 1)\n",
        "                    loss = criterion(outputs, labels)\n",
        "\n",
        "                    # backward + optimize only if in training phase\n",
        "                    if phase == 'train':\n",
        "                        loss.backward()\n",
        "                        optimizer.step()\n",
        "\n",
        "                # statistics\n",
        "                running_loss += loss.item() * inputs.size(0)\n",
        "                running_corrects += torch.sum(preds == labels.data)\n",
        "            if phase == 'train':\n",
        "                scheduler.step()\n",
        "\n",
        "            epoch_loss = running_loss / dataset_sizes[phase]\n",
        "            epoch_acc = running_corrects.double() / dataset_sizes[phase]\n",
        "\n",
        "            print('{} Loss: {:.4f} Acc: {:.4f}'.format(\n",
        "                phase, epoch_loss, epoch_acc))\n",
        "\n",
        "            # deep copy the model\n",
        "            if phase == 'val' and epoch_acc > best_acc:\n",
        "                best_acc = epoch_acc\n",
        "                best_model_wts = copy.deepcopy(model.state_dict())\n",
        "\n",
        "        print()\n",
        "\n",
        "    time_elapsed = time.time() - since\n",
        "    print('Training complete in {:.0f}m {:.0f}s'.format(\n",
        "        time_elapsed // 60, time_elapsed % 60))\n",
        "    print('Best val Acc: {:4f}'.format(best_acc))\n",
        "\n",
        "    # load best model weights\n",
        "    model.load_state_dict(best_model_wts)\n",
        "    return model"
      ],
      "metadata": {
        "id": "7fMseg5Jjjxt"
      },
      "execution_count": 18,
      "outputs": []
    },
    {
      "cell_type": "code",
      "source": [
        "def visualize_model(model, num_images=6):\n",
        "    was_training = model.training\n",
        "    model.eval()\n",
        "    images_so_far = 0\n",
        "    fig = plt.figure()\n",
        "\n",
        "    with torch.no_grad():\n",
        "        for i, (inputs, labels) in enumerate(dataloaders['val']):\n",
        "            inputs = inputs.to(device)\n",
        "            labels = labels.to(device)\n",
        "\n",
        "            outputs = model(inputs)\n",
        "            _, preds = torch.max(outputs, 1)\n",
        "\n",
        "            for j in range(inputs.size()[0]):\n",
        "                images_so_far += 1\n",
        "                ax = plt.subplot(num_images//2, 2, images_so_far)\n",
        "                ax.axis('off')\n",
        "                ax.set_title('predicted: {}'.format(class_names[preds[j]]))\n",
        "                imshow(inputs.cpu().data[j])\n",
        "\n",
        "                if images_so_far == num_images:\n",
        "                    model.train(mode=was_training)\n",
        "                    return\n",
        "        model.train(mode=was_training)"
      ],
      "metadata": {
        "id": "7zUNbLbZjp4d"
      },
      "execution_count": 19,
      "outputs": []
    },
    {
      "cell_type": "code",
      "source": [
        "model_conv = torchvision.models.resnet18(pretrained=True)\n",
        "for param in model_conv.parameters():\n",
        "    param.requires_grad = False\n",
        "\n",
        "# Parameters of newly constructed modules have requires_grad=True by default\n",
        "num_ftrs = model_conv.fc.in_features\n",
        "model_conv.fc = nn.Linear(num_ftrs, 2)\n",
        "\n",
        "model_conv = model_conv.to(device)\n",
        "\n",
        "criterion = nn.CrossEntropyLoss()\n",
        "\n",
        "# Observe that only parameters of final layer are being optimized as\n",
        "# opposed to before.\n",
        "optimizer_conv = optim.SGD(model_conv.fc.parameters(), lr=0.001, momentum=0.9)\n",
        "\n",
        "# Decay LR by a factor of 0.1 every 7 epochs\n",
        "exp_lr_scheduler = lr_scheduler.StepLR(optimizer_conv, step_size=7, gamma=0.1)"
      ],
      "metadata": {
        "colab": {
          "base_uri": "https://localhost:8080/",
          "height": 66,
          "referenced_widgets": [
            "bb16cf9ef604417184733943514438e6",
            "18d1b0cd95784e91968b031e84e4644e",
            "125f127dae89451ea13a7d80ad68d672",
            "4b919aa05c5f434c9bafd37adee4a5f9",
            "4f54d1ae20084f189453bbaacc156e23",
            "5dd05ac56c02413e8d22d1b5599e4b2e",
            "a0023c0add4443cfb102c9bd2f047b51",
            "3c999a5803f1419c972a1774f301a78d",
            "b40220e2b7aa44cfabeb4e0dd25be629",
            "d4ed74fcbb1740d5ab31c4fb6fc2e6e6",
            "0432f350574540fab4f5be9c8ecb7f64"
          ]
        },
        "id": "ywOP0OLqjsyl",
        "outputId": "81a464ac-fccc-4d16-f15a-ddbc74fd7f92"
      },
      "execution_count": 20,
      "outputs": [
        {
          "output_type": "stream",
          "name": "stderr",
          "text": [
            "Downloading: \"https://download.pytorch.org/models/resnet18-f37072fd.pth\" to /root/.cache/torch/hub/checkpoints/resnet18-f37072fd.pth\n"
          ]
        },
        {
          "output_type": "display_data",
          "data": {
            "application/vnd.jupyter.widget-view+json": {
              "model_id": "bb16cf9ef604417184733943514438e6",
              "version_minor": 0,
              "version_major": 2
            },
            "text/plain": [
              "  0%|          | 0.00/44.7M [00:00<?, ?B/s]"
            ]
          },
          "metadata": {}
        }
      ]
    },
    {
      "cell_type": "code",
      "source": [
        "model_conv = train_model(model_conv, criterion, optimizer_conv,\n",
        "                         exp_lr_scheduler, num_epochs=10)"
      ],
      "metadata": {
        "colab": {
          "base_uri": "https://localhost:8080/"
        },
        "id": "_PdDwXjij1Qr",
        "outputId": "80e4e4b9-554b-4d1a-f2c2-8383a0400442"
      },
      "execution_count": 21,
      "outputs": [
        {
          "output_type": "stream",
          "name": "stdout",
          "text": [
            "Epoch 0/9\n",
            "----------\n"
          ]
        },
        {
          "output_type": "stream",
          "name": "stderr",
          "text": [
            "/usr/local/lib/python3.7/dist-packages/torch/utils/data/dataloader.py:481: UserWarning: This DataLoader will create 4 worker processes in total. Our suggested max number of worker in current system is 2, which is smaller than what this DataLoader is going to create. Please be aware that excessive worker creation might get DataLoader running slow or even freeze, lower the worker number to avoid potential slowness/freeze if necessary.\n",
            "  cpuset_checked))\n"
          ]
        },
        {
          "output_type": "stream",
          "name": "stdout",
          "text": [
            "train Loss: 0.5630 Acc: 0.7049\n",
            "val Loss: 0.1958 Acc: 0.9412\n",
            "\n",
            "Epoch 1/9\n",
            "----------\n",
            "train Loss: 0.4152 Acc: 0.7992\n",
            "val Loss: 0.1740 Acc: 0.9281\n",
            "\n",
            "Epoch 2/9\n",
            "----------\n",
            "train Loss: 0.6294 Acc: 0.7295\n",
            "val Loss: 0.1613 Acc: 0.9477\n",
            "\n",
            "Epoch 3/9\n",
            "----------\n",
            "train Loss: 0.4804 Acc: 0.7828\n",
            "val Loss: 0.1533 Acc: 0.9412\n",
            "\n",
            "Epoch 4/9\n",
            "----------\n",
            "train Loss: 0.3802 Acc: 0.8607\n",
            "val Loss: 0.1521 Acc: 0.9346\n",
            "\n",
            "Epoch 5/9\n",
            "----------\n",
            "train Loss: 0.4237 Acc: 0.8320\n",
            "val Loss: 0.1804 Acc: 0.9346\n",
            "\n",
            "Epoch 6/9\n",
            "----------\n",
            "train Loss: 0.4140 Acc: 0.8525\n",
            "val Loss: 0.2789 Acc: 0.9150\n",
            "\n",
            "Epoch 7/9\n",
            "----------\n",
            "train Loss: 0.4332 Acc: 0.7910\n",
            "val Loss: 0.1918 Acc: 0.9281\n",
            "\n",
            "Epoch 8/9\n",
            "----------\n",
            "train Loss: 0.4052 Acc: 0.8279\n",
            "val Loss: 0.2165 Acc: 0.9216\n",
            "\n",
            "Epoch 9/9\n",
            "----------\n",
            "train Loss: 0.3131 Acc: 0.8607\n",
            "val Loss: 0.2348 Acc: 0.9085\n",
            "\n",
            "Training complete in 0m 44s\n",
            "Best val Acc: 0.947712\n"
          ]
        }
      ]
    },
    {
      "cell_type": "code",
      "source": [
        "visualize_model(model_conv)\n",
        "\n",
        "plt.ioff()\n",
        "plt.show()"
      ],
      "metadata": {
        "colab": {
          "base_uri": "https://localhost:8080/",
          "height": 636
        },
        "id": "a8c7QQmHj5YX",
        "outputId": "2bb8e226-b77c-4430-fb6d-1668b3fd84d1"
      },
      "execution_count": 22,
      "outputs": [
        {
          "output_type": "stream",
          "name": "stderr",
          "text": [
            "/usr/local/lib/python3.7/dist-packages/torch/utils/data/dataloader.py:481: UserWarning: This DataLoader will create 4 worker processes in total. Our suggested max number of worker in current system is 2, which is smaller than what this DataLoader is going to create. Please be aware that excessive worker creation might get DataLoader running slow or even freeze, lower the worker number to avoid potential slowness/freeze if necessary.\n",
            "  cpuset_checked))\n"
          ]
        },
        {
          "output_type": "display_data",
          "data": {
            "image/png": "[encoded data removed]",
            "text/plain": [
              "<Figure size 432x288 with 1 Axes>"
            ]
          },
          "metadata": {
            "needs_background": "light"
          }
        },
        {
          "output_type": "display_data",
          "data": {
            "image/png": "[encoded data removed]",
            "text/plain": [
              "<Figure size 432x288 with 1 Axes>"
            ]
          },
          "metadata": {
            "needs_background": "light"
          }
        },
        {
          "output_type": "display_data",
          "data": {
            "image/png": "[encoded data removed]",
            "text/plain": [
              "<Figure size 432x288 with 1 Axes>"
            ]
          },
          "metadata": {
            "needs_background": "light"
          }
        },
        {
          "output_type": "display_data",
          "data": {
            "image/png": "[encoded data removed]",
            "text/plain": [
              "<Figure size 432x288 with 1 Axes>"
            ]
          },
          "metadata": {
            "needs_background": "light"
          }
        },
        {
          "output_type": "display_data",
          "data": {
            "image/png": "[encoded data removed]",
            "text/plain": [
              "<Figure size 432x288 with 1 Axes>"
            ]
          },
          "metadata": {
            "needs_background": "light"
          }
        },
        {
          "output_type": "display_data",
          "data": {
            "image/png": "[encoded data removed]",
            "text/plain": [
              "<Figure size 432x288 with 1 Axes>"
            ]
          },
          "metadata": {
            "needs_background": "light"
          }
        }
      ]
    },
    {
      "cell_type": "markdown",
      "source": [
        "Q.4 **Use gradCAM to visualise intermediate activations in a model**"
      ],
      "metadata": {
        "id": "vDZHlyZflu-7"
      }
    },
    {
      "cell_type": "code",
      "source": [
        "!git clone https://github.com/yaleCat/Grad-CAM-pytorch.git\n",
        "!mv Grad-CAM-pytorch/assets/ /content/\n",
        "!mv Grad-CAM-pytorch/grad_cam.py /content/\n",
        "!rm -rf Grad-CAM-pytorch/\n",
        "!pip install --upgrade efficientnet-pytorch"
      ],
      "metadata": {
        "colab": {
          "base_uri": "https://localhost:8080/"
        },
        "id": "o8Vekie4lhIW",
        "outputId": "8fb73a71-e95b-40d1-e306-62ba665f8864"
      },
      "execution_count": 1,
      "outputs": [
        {
          "output_type": "stream",
          "name": "stdout",
          "text": [
            "Cloning into 'Grad-CAM-pytorch'...\n",
            "remote: Enumerating objects: 30, done.\u001b[K\n",
            "remote: Counting objects: 100% (30/30), done.\u001b[K\n",
            "remote: Compressing objects: 100% (30/30), done.\u001b[K\n",
            "remote: Total 30 (delta 2), reused 23 (delta 0), pack-reused 0\u001b[K\n",
            "Unpacking objects: 100% (30/30), done.\n",
            "Collecting efficientnet-pytorch\n",
            "  Downloading efficientnet_pytorch-0.7.1.tar.gz (21 kB)\n",
            "Requirement already satisfied: torch in /usr/local/lib/python3.7/dist-packages (from efficientnet-pytorch) (1.10.0+cu111)\n",
            "Requirement already satisfied: typing-extensions in /usr/local/lib/python3.7/dist-packages (from torch->efficientnet-pytorch) (3.10.0.2)\n",
            "Building wheels for collected packages: efficientnet-pytorch\n",
            "  Building wheel for efficientnet-pytorch (setup.py) ... \u001b[?25l\u001b[?25hdone\n",
            "  Created wheel for efficientnet-pytorch: filename=efficientnet_pytorch-0.7.1-py3-none-any.whl size=16446 sha256=dd42cd0f0f8ff2f2b91ff0c79370619ae7aa1d2dbe83a51f4bcd17df075306ed\n",
            "  Stored in directory: /root/.cache/pip/wheels/0e/cc/b2/49e74588263573ff778da58cc99b9c6349b496636a7e165be6\n",
            "Successfully built efficientnet-pytorch\n",
            "Installing collected packages: efficientnet-pytorch\n",
            "Successfully installed efficientnet-pytorch-0.7.1\n"
          ]
        }
      ]
    },
    {
      "cell_type": "code",
      "source": [
        "import sys\n",
        "sys.path.append('/')\n",
        "import cv2\n",
        "import numpy as np\n",
        "from torchvision import models\n",
        "from efficientnet_pytorch import EfficientNet\n",
        "from grad_cam import GradCam,GuidedBackpropReLUModel,show_cams,show_gbs,preprocess_image\n",
        "from google.colab.patches import cv2_imshow"
      ],
      "metadata": {
        "id": "6qDqekHolzz6"
      },
      "execution_count": 2,
      "outputs": []
    },
    {
      "cell_type": "code",
      "source": [
        "model = models.vgg19(pretrained=True)\n",
        "grad_cam = GradCam(model=model, blob_name = 'features', target_layer_names=['4','20','36'], use_cuda=False)\n",
        "img = cv2.imread('./assets/dog.jpg', 1)\n",
        "img = np.float32(cv2.resize(img, (224, 224))) / 255\n",
        "inputs = preprocess_image(img)\n",
        "target_index = None\n",
        "mask_dic = grad_cam(inputs, target_index)\n",
        "show_cams(img, mask_dic)\n",
        "gb_model = GuidedBackpropReLUModel(model=model, activation_layer_name = 'ReLU', use_cuda=False)\n",
        "show_gbs(inputs, gb_model, target_index, mask_dic)"
      ],
      "metadata": {
        "id": "d2i96f4El3LY",
        "colab": {
          "base_uri": "https://localhost:8080/",
          "height": 66,
          "referenced_widgets": [
            "e25fd56b2403456797b4f2bcd8a8fa39",
            "4b83b8e9ed7044b4818ed026688d71ad",
            "1b5b440e823e4fa98461ce1e65da4ecb",
            "cba055d857be48199fb88b3a7df7d127",
            "5ba671539d7046dab5ac3f3c9de66340",
            "9b869aa1394d441c9e03b4858e5e12d0",
            "6d2ab891138c48a1bdbfc5609092d73b",
            "4156b858cac04601a6eb82415db58aa9",
            "8c81d5eb1d584f8fb596275cbaabb6f2",
            "35c4be38eff947acb3dd3dc78ea85668",
            "37b9466038d1430b97aac2ca605af8a0"
          ]
        },
        "outputId": "b3f833bf-6d48-4951-d513-e0c5c35c7cf0"
      },
      "execution_count": 3,
      "outputs": [
        {
          "output_type": "stream",
          "name": "stderr",
          "text": [
            "Downloading: \"https://download.pytorch.org/models/vgg19-dcbb9e9d.pth\" to /root/.cache/torch/hub/checkpoints/vgg19-dcbb9e9d.pth\n"
          ]
        },
        {
          "output_type": "display_data",
          "data": {
            "application/vnd.jupyter.widget-view+json": {
              "model_id": "e25fd56b2403456797b4f2bcd8a8fa39",
              "version_minor": 0,
              "version_major": 2
            },
            "text/plain": [
              "  0%|          | 0.00/548M [00:00<?, ?B/s]"
            ]
          },
          "metadata": {}
        }
      ]
    },
    {
      "cell_type": "markdown",
      "source": [
        "![cam36.jpg](data:image/jpeg;base64,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)![cam15.jpg](data:image/jpeg;base64,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)![cam10.jpg](data:image/jpeg;base64,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)![cam1.jpg](data:image/jpeg;base64,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)![cam4.jpg](data:image/jpeg;base64,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)![dog.jpg](data:image/jpeg;base64,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)"
      ],
      "metadata": {
        "id": "lOAuKCctdLcT"
      }
    },
    {
      "cell_type": "markdown",
      "source": [
        "Q.5 **Replace the ReLUs in the code with sigmoid units, and compare the training\n",
        "and testing accuracies of both the models. Discuss the results**"
      ],
      "metadata": {
        "id": "aBsT4e95oHJS"
      }
    },
    {
      "cell_type": "code",
      "source": [
        "# TensorFlow and tf.keras\n",
        "import tensorflow as tf\n",
        "\n",
        "# Helper libraries\n",
        "import numpy as np\n",
        "import matplotlib.pyplot as plt\n",
        "import pandas as pd"
      ],
      "metadata": {
        "id": "7Y_wQLWrl7Sp"
      },
      "execution_count": null,
      "outputs": []
    },
    {
      "cell_type": "code",
      "source": [
        "fashion_mnist = tf.keras.datasets.fashion_mnist\n",
        "\n",
        "(train_images, train_labels), (test_images, test_labels) = fashion_mnist.load_data()"
      ],
      "metadata": {
        "id": "E1njiH66oNsy"
      },
      "execution_count": null,
      "outputs": []
    },
    {
      "cell_type": "code",
      "source": [
        "class_names = ['T-shirt/top', 'Trouser', 'Pullover', 'Dress', 'Coat',\n",
        "               'Sandal', 'Shirt', 'Sneaker', 'Bag', 'Ankle boot']"
      ],
      "metadata": {
        "id": "8Yc2A7PzoT6o"
      },
      "execution_count": null,
      "outputs": []
    },
    {
      "cell_type": "code",
      "source": [
        "test_images.shape\n",
        "input_shape = (28, 28, 1)\n",
        "num_classes = 10"
      ],
      "metadata": {
        "id": "WuOKHsbKoW5c"
      },
      "execution_count": null,
      "outputs": []
    },
    {
      "cell_type": "code",
      "source": [
        "train_images = train_images / 255.0\n",
        "\n",
        "test_images = test_images / 255.0"
      ],
      "metadata": {
        "id": "KoXzUPHDoZCL"
      },
      "execution_count": null,
      "outputs": []
    },
    {
      "cell_type": "code",
      "source": [
        "def Model(activation,epoch):\n",
        "  if activation == 'relu':\n",
        "    model = tf.keras.models.Sequential([\n",
        "    tf.keras.layers.Conv2D(32, (5,5), padding='same', activation=activation, input_shape=input_shape),\n",
        "    tf.keras.layers.Conv2D(32, (5,5), padding='same', activation=activation),\n",
        "    tf.keras.layers.MaxPool2D(),\n",
        "    tf.keras.layers.Dropout(0.25),\n",
        "    tf.keras.layers.Conv2D(64, (3,3), padding='same', activation=activation),\n",
        "    tf.keras.layers.Conv2D(64, (3,3), padding='same', activation=activation),\n",
        "    tf.keras.layers.MaxPool2D(strides=(2,2)),\n",
        "    tf.keras.layers.Dropout(0.25),\n",
        "    tf.keras.layers.Flatten(),\n",
        "    tf.keras.layers.Dense(128, activation=activation),\n",
        "    tf.keras.layers.Dropout(0.5),\n",
        "    tf.keras.layers.Dense(num_classes, activation='softmax')])\n",
        "\n",
        "  elif activation == 'sigmoid':\n",
        "    model = tf.keras.models.Sequential([\n",
        "    tf.keras.layers.Conv2D(32, (5,5), padding='same', activation=activation , input_shape=input_shape),\n",
        "    tf.keras.layers.Conv2D(32, (5,5), padding='same', activation=activation),\n",
        "    tf.keras.layers.MaxPool2D(),\n",
        "    tf.keras.layers.Dropout(0.25),\n",
        "    tf.keras.layers.Conv2D(64, (3,3), padding='same', activation=activation),\n",
        "    tf.keras.layers.Conv2D(64, (3,3), padding='same', activation=activation),\n",
        "    tf.keras.layers.MaxPool2D(strides=(2,2)),\n",
        "    tf.keras.layers.Dropout(0.25),\n",
        "    tf.keras.layers.Flatten(),\n",
        "    tf.keras.layers.Dense(128, activation=activation),\n",
        "    tf.keras.layers.Dropout(0.5),\n",
        "    tf.keras.layers.Dense(num_classes, activation='softmax')])\n",
        "\n",
        "  model.compile(optimizer='adam',\n",
        "              loss=tf.keras.losses.SparseCategoricalCrossentropy(from_logits=True),\n",
        "              metrics=['accuracy'])\n",
        "  \n",
        "  history = model.fit(train_images, train_labels, epochs=epoch)\n",
        "\n",
        "  test_loss, test_acc = model.evaluate(test_images,  test_labels, verbose=2)\n",
        "  print(f'\\nTest accuracy with {activation}:', test_acc)\n",
        "\n",
        "  pd.DataFrame(history.history).plot(figsize=(10,7))\n",
        "  plt.grid('True')\n",
        "  plt.title(f\"Accuracy and loss with {activation}\")\n",
        "\n"
      ],
      "metadata": {
        "id": "6r0zOYWLojhw"
      },
      "execution_count": null,
      "outputs": []
    },
    {
      "cell_type": "code",
      "source": [
        "Model('relu',10)"
      ],
      "metadata": {
        "colab": {
          "base_uri": "https://localhost:8080/",
          "height": 898
        },
        "id": "ndWhElHkrPhO",
        "outputId": "b23246ea-3086-48a5-eca4-c2a8fffebd2c"
      },
      "execution_count": null,
      "outputs": [
        {
          "output_type": "stream",
          "name": "stdout",
          "text": [
            "Epoch 1/10\n"
          ]
        },
        {
          "output_type": "stream",
          "name": "stderr",
          "text": [
            "/usr/local/lib/python3.7/dist-packages/tensorflow/python/util/dispatch.py:1096: UserWarning: \"`sparse_categorical_crossentropy` received `from_logits=True`, but the `output` argument was produced by a sigmoid or softmax activation and thus does not represent logits. Was this intended?\"\n",
            "  return dispatch_target(*args, **kwargs)\n"
          ]
        },
        {
          "output_type": "stream",
          "name": "stdout",
          "text": [
            "1875/1875 [==============================] - 18s 9ms/step - loss: 0.5197 - accuracy: 0.8137\n",
            "Epoch 2/10\n",
            "1875/1875 [==============================] - 17s 9ms/step - loss: 0.3458 - accuracy: 0.8756\n",
            "Epoch 3/10\n",
            "1875/1875 [==============================] - 17s 9ms/step - loss: 0.3022 - accuracy: 0.8900\n",
            "Epoch 4/10\n",
            "1875/1875 [==============================] - 18s 9ms/step - loss: 0.2816 - accuracy: 0.8974\n",
            "Epoch 5/10\n",
            "1875/1875 [==============================] - 18s 9ms/step - loss: 0.2599 - accuracy: 0.9057\n",
            "Epoch 6/10\n",
            "1875/1875 [==============================] - 17s 9ms/step - loss: 0.2484 - accuracy: 0.9093\n",
            "Epoch 7/10\n",
            "1875/1875 [==============================] - 17s 9ms/step - loss: 0.2381 - accuracy: 0.9132\n",
            "Epoch 8/10\n",
            "1875/1875 [==============================] - 17s 9ms/step - loss: 0.2304 - accuracy: 0.9147\n",
            "Epoch 9/10\n",
            "1875/1875 [==============================] - 17s 9ms/step - loss: 0.2227 - accuracy: 0.9178\n",
            "Epoch 10/10\n",
            "1875/1875 [==============================] - 17s 9ms/step - loss: 0.2140 - accuracy: 0.9207\n",
            "313/313 - 2s - loss: 0.2289 - accuracy: 0.9219 - 2s/epoch - 5ms/step\n",
            "\n",
            "Test accuracy with relu: 0.9218999743461609\n"
          ]
        },
        {
          "output_type": "display_data",
          "data": {
            "image/png": "[encoded data removed]",
            "text/plain": [
              "<Figure size 720x504 with 1 Axes>"
            ]
          },
          "metadata": {
            "needs_background": "light"
          }
        }
      ]
    },
    {
      "cell_type": "code",
      "source": [
        "Model('sigmoid',10)"
      ],
      "metadata": {
        "colab": {
          "base_uri": "https://localhost:8080/",
          "height": 898
        },
        "id": "yWQt_4U9snki",
        "outputId": "ae2f6514-a34c-4304-ddb8-54ba150e7f5b"
      },
      "execution_count": null,
      "outputs": [
        {
          "output_type": "stream",
          "name": "stdout",
          "text": [
            "Epoch 1/10\n"
          ]
        },
        {
          "output_type": "stream",
          "name": "stderr",
          "text": [
            "/usr/local/lib/python3.7/dist-packages/tensorflow/python/util/dispatch.py:1096: UserWarning: \"`sparse_categorical_crossentropy` received `from_logits=True`, but the `output` argument was produced by a sigmoid or softmax activation and thus does not represent logits. Was this intended?\"\n",
            "  return dispatch_target(*args, **kwargs)\n"
          ]
        },
        {
          "output_type": "stream",
          "name": "stdout",
          "text": [
            "1875/1875 [==============================] - 18s 9ms/step - loss: 2.3083 - accuracy: 0.0992\n",
            "Epoch 2/10\n",
            "1875/1875 [==============================] - 17s 9ms/step - loss: 1.9548 - accuracy: 0.2409\n",
            "Epoch 3/10\n",
            "1875/1875 [==============================] - 18s 9ms/step - loss: 0.6497 - accuracy: 0.7594\n",
            "Epoch 4/10\n",
            "1875/1875 [==============================] - 17s 9ms/step - loss: 0.4665 - accuracy: 0.8302\n",
            "Epoch 5/10\n",
            "1875/1875 [==============================] - 17s 9ms/step - loss: 0.3915 - accuracy: 0.8565\n",
            "Epoch 6/10\n",
            "1875/1875 [==============================] - 17s 9ms/step - loss: 0.3557 - accuracy: 0.8696\n",
            "Epoch 7/10\n",
            "1875/1875 [==============================] - 17s 9ms/step - loss: 0.3305 - accuracy: 0.8785\n",
            "Epoch 8/10\n",
            "1875/1875 [==============================] - 17s 9ms/step - loss: 0.3126 - accuracy: 0.8850\n",
            "Epoch 9/10\n",
            "1875/1875 [==============================] - 17s 9ms/step - loss: 0.2954 - accuracy: 0.8917\n",
            "Epoch 10/10\n",
            "1875/1875 [==============================] - 17s 9ms/step - loss: 0.2815 - accuracy: 0.8956\n",
            "313/313 - 2s - loss: 0.2762 - accuracy: 0.8992 - 2s/epoch - 5ms/step\n",
            "\n",
            "Test accuracy with sigmoid: 0.8992000222206116\n"
          ]
        },
        {
          "output_type": "display_data",
          "data": {
            "image/png": "[encoded data removed]",
            "text/plain": [
              "<Figure size 720x504 with 1 Axes>"
            ]
          },
          "metadata": {
            "needs_background": "light"
          }
        }
      ]
    },
    {
      "cell_type": "markdown",
      "source": [
        "From the above graphs, we can clearly observed that better accuracy is archived using **Relu** activation function. It is because, when we use Sigmoid activation function, there might be chance of vanishing gradient problem. Moreover Sigmoid activation is computationally expensive as exponential operations are being calcuted at every step."
      ],
      "metadata": {
        "id": "4arWNLPMzWlQ"
      }
    },
    {
      "cell_type": "code",
      "source": [
        ""
      ],
      "metadata": {
        "id": "SinPb55z0kzG"
      },
      "execution_count": null,
      "outputs": []
    }
  ]
}